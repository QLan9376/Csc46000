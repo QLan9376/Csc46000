{
 "cells": [
  {
   "cell_type": "code",
   "execution_count": 1,
   "metadata": {},
   "outputs": [],
   "source": [
    "# Import\n",
    "import pandas as pd\n",
    "import numpy as np\n",
    "import seaborn as sns\n",
    "import matplotlib.pyplot as plt\n",
    "from sklearn.metrics import roc_curve\n",
    "from sklearn.metrics import roc_auc_score\n",
    "from sklearn.linear_model import LogisticRegression\n",
    "from sklearn.tree import DecisionTreeClassifier\n",
    "from sklearn.ensemble import RandomForestClassifier\n",
    "from sklearn.ensemble import ExtraTreesClassifier\n",
    "from sklearn.model_selection import train_test_split\n",
    "from sklearn.metrics import f1_score\n",
    "from sklearn.metrics import confusion_matrix\n",
    "from sklearn.metrics import plot_confusion_matrix\n",
    "from sklearn.preprocessing import MinMaxScaler,StandardScaler\n",
    "from sklearn.ensemble import ExtraTreesClassifier"
   ]
  },
  {
   "cell_type": "code",
   "execution_count": 2,
   "metadata": {},
   "outputs": [],
   "source": [
    "df = pd.read_csv(\"cleaned.csv\")\n",
    "\n",
    "# Drop unnecessary features\n",
    "df = df.drop(['anaemia', 'creatinine_phosphokinase', 'diabetes', 'high_blood_pressure', 'platelets', 'sex', 'smoking'], axis=1)\n",
    "\n",
    "# Feature variable\n",
    "X = df.drop(columns=['DEATH_EVENT'])\n",
    "\n",
    "# Target Variable\n",
    "y = df['DEATH_EVENT']"
   ]
  },
  {
   "cell_type": "code",
   "execution_count": 3,
   "metadata": {},
   "outputs": [],
   "source": [
    "X_train_70, X_test_30, y_train_70, y_test_30 = train_test_split(X,\n",
    "                                y,stratify=y,\n",
    "                                test_size=0.3,\n",
    "                                random_state=42)"
   ]
  },
  {
   "cell_type": "code",
   "execution_count": 4,
   "metadata": {},
   "outputs": [],
   "source": [
    "#scaler = MinMaxScaler()\n",
    "scaler = StandardScaler()\n",
    "X_train_70_scaled = scaler.fit_transform(X_train_70)\n",
    "X_test_30_scaled = scaler.transform(X_test_30)"
   ]
  },
  {
   "cell_type": "code",
   "execution_count": 5,
   "metadata": {},
   "outputs": [
    {
     "name": "stdout",
     "output_type": "stream",
     "text": [
      "Accuracy of logistic regression classifier using 70% training data:  0.8333\n",
      "F1 score for 70% training data 0.717 \n",
      "\n"
     ]
    },
    {
     "name": "stderr",
     "output_type": "stream",
     "text": [
      "/Users/asma/opt/anaconda3/lib/python3.8/site-packages/sklearn/utils/deprecation.py:87: FutureWarning: Function plot_confusion_matrix is deprecated; Function `plot_confusion_matrix` is deprecated in 1.0 and will be removed in 1.2. Use one of the class methods: ConfusionMatrixDisplay.from_predictions or ConfusionMatrixDisplay.from_estimator.\n",
      "  warnings.warn(msg, category=FutureWarning)\n"
     ]
    },
    {
     "data": {
      "text/plain": [
       "<sklearn.metrics._plot.confusion_matrix.ConfusionMatrixDisplay at 0x7fc7aaa59820>"
      ]
     },
     "execution_count": 5,
     "metadata": {},
     "output_type": "execute_result"
    },
    {
     "data": {
      "image/png": "[encoded data removed]",
      "text/plain": [
       "<Figure size 432x288 with 2 Axes>"
      ]
     },
     "metadata": {
      "needs_background": "light"
     },
     "output_type": "display_data"
    }
   ],
   "source": [
    "# Instantiate the classifier\n",
    "logreg = LogisticRegression(random_state=42)\n",
    "\n",
    "# Fit the classifier\n",
    "logreg=logreg.fit(X_train_70_scaled, y_train_70)\n",
    "\n",
    "# Predict instances from the test set\n",
    "logreg_y_pred = logreg.predict(X_test_30_scaled)\n",
    "\n",
    "logreg_accuracy = round(logreg.score(X_test_30_scaled, y_test_30), 4)\n",
    "logreg_f1_score = round(f1_score(y_test_30, logreg_y_pred), 4)\n",
    "\n",
    "# Print the accuracy score of the model\n",
    "print(\"Accuracy of logistic regression classifier using 70% training data: \", logreg_accuracy)\n",
    "\n",
    "# Print the F1 score\n",
    "print(\"F1 score for 70% training data\", logreg_f1_score, \"\\n\")\n",
    "\n",
    "plot_confusion_matrix(logreg, X_test_30_scaled, y_test_30)"
   ]
  },
  {
   "cell_type": "code",
   "execution_count": 6,
   "metadata": {},
   "outputs": [
    {
     "name": "stdout",
     "output_type": "stream",
     "text": [
      "Accuracy of logistic regression classifier using 70% training data:  0.8111\n",
      "F1 score for 70% training data 0.6792 \n",
      "\n"
     ]
    },
    {
     "name": "stderr",
     "output_type": "stream",
     "text": [
      "/Users/asma/opt/anaconda3/lib/python3.8/site-packages/sklearn/utils/deprecation.py:87: FutureWarning: Function plot_confusion_matrix is deprecated; Function `plot_confusion_matrix` is deprecated in 1.0 and will be removed in 1.2. Use one of the class methods: ConfusionMatrixDisplay.from_predictions or ConfusionMatrixDisplay.from_estimator.\n",
      "  warnings.warn(msg, category=FutureWarning)\n"
     ]
    },
    {
     "data": {
      "text/plain": [
       "<sklearn.metrics._plot.confusion_matrix.ConfusionMatrixDisplay at 0x7fc7aaa646d0>"
      ]
     },
     "execution_count": 6,
     "metadata": {},
     "output_type": "execute_result"
    },
    {
     "data": {
      "image/png": "[encoded data removed]",
      "text/plain": [
       "<Figure size 432x288 with 2 Axes>"
      ]
     },
     "metadata": {
      "needs_background": "light"
     },
     "output_type": "display_data"
    }
   ],
   "source": [
    "dt = DecisionTreeClassifier(random_state=42)\n",
    "\n",
    "# Fit the classifier\n",
    "dt= dt.fit(X_train_70_scaled, y_train_70)\n",
    "\n",
    "dt_y_pred = dt.predict(X_test_30_scaled)\n",
    "\n",
    "dt_accuracy = round(dt.score(X_test_30_scaled, y_test_30), 4)\n",
    "dt_f1_score = round(f1_score(y_test_30, dt_y_pred), 4)\n",
    "\n",
    "# Print the accuracy score of the model\n",
    "print(\"Accuracy of logistic regression classifier using 70% training data: \", dt_accuracy)\n",
    "\n",
    "# Print the F1 score\n",
    "print(\"F1 score for 70% training data\", dt_f1_score, \"\\n\")\n",
    "\n",
    "plot_confusion_matrix(dt, X_test_30_scaled, y_test_30) "
   ]
  },
  {
   "cell_type": "code",
   "execution_count": 7,
   "metadata": {},
   "outputs": [
    {
     "data": {
      "text/plain": [
       "Index(['age', 'ejection_fraction', 'serum_creatinine', 'serum_sodium', 'time',\n",
       "       'DEATH_EVENT'],\n",
       "      dtype='object')"
      ]
     },
     "execution_count": 7,
     "metadata": {},
     "output_type": "execute_result"
    }
   ],
   "source": [
    "df.columns"
   ]
  },
  {
   "cell_type": "code",
   "execution_count": 8,
   "metadata": {},
   "outputs": [
    {
     "name": "stdout",
     "output_type": "stream",
     "text": [
      "Accuracy of logistic regression classifier using 70% training data:  0.8222\n",
      "F1 score for 70% training data 0.7037 \n",
      "\n"
     ]
    },
    {
     "name": "stderr",
     "output_type": "stream",
     "text": [
      "/Users/asma/opt/anaconda3/lib/python3.8/site-packages/sklearn/utils/deprecation.py:87: FutureWarning: Function plot_confusion_matrix is deprecated; Function `plot_confusion_matrix` is deprecated in 1.0 and will be removed in 1.2. Use one of the class methods: ConfusionMatrixDisplay.from_predictions or ConfusionMatrixDisplay.from_estimator.\n",
      "  warnings.warn(msg, category=FutureWarning)\n"
     ]
    },
    {
     "data": {
      "text/plain": [
       "<sklearn.metrics._plot.confusion_matrix.ConfusionMatrixDisplay at 0x7fc7aae50cd0>"
      ]
     },
     "execution_count": 8,
     "metadata": {},
     "output_type": "execute_result"
    },
    {
     "data": {
      "image/png": "[encoded data removed]",
      "text/plain": [
       "<Figure size 432x288 with 2 Axes>"
      ]
     },
     "metadata": {
      "needs_background": "light"
     },
     "output_type": "display_data"
    }
   ],
   "source": [
    "rf = RandomForestClassifier(random_state=42)\n",
    "\n",
    "# Fit the classifier\n",
    "rf=rf.fit(X_train_70_scaled, y_train_70)\n",
    "\n",
    "rf_y_pred = rf.predict(X_test_30_scaled)\n",
    "\n",
    "rf_accuracy = round(rf.score(X_test_30_scaled, y_test_30), 4)\n",
    "rf_f1_score = round(f1_score(y_test_30, rf_y_pred), 4)\n",
    "\n",
    "# Print the accuracy score of the model\n",
    "print(\"Accuracy of logistic regression classifier using 70% training data: \", rf_accuracy)\n",
    "\n",
    "# Print the F1 score\n",
    "print(\"F1 score for 70% training data\", rf_f1_score, \"\\n\")\n",
    "plot_confusion_matrix(rf, X_test_30_scaled, y_test_30) "
   ]
  },
  {
   "cell_type": "markdown",
   "metadata": {},
   "source": [
    "We expected decision tree and random forest to perform better than logistic regression.The reason behind this may be the features we picked based off the Pearson Coefficents."
   ]
  },
  {
   "cell_type": "markdown",
   "metadata": {},
   "source": [
    "# FEATURE SELECTION"
   ]
  },
  {
   "cell_type": "markdown",
   "metadata": {},
   "source": [
    "We tried models that have feature_importances_. Random forest feature important is the most common way to detect features. Based of the feature importance of these models, I chose time, serum_creatine, and ejection_fraction since their importance is above 0.10. Previously, we have selected time, serum_creatine, and ejection_fraction, serum sodium, and age. We have dropped off age and serum sodium based on these observations."
   ]
  },
  {
   "cell_type": "code",
   "execution_count": 13,
   "metadata": {},
   "outputs": [],
   "source": [
    "df = pd.read_csv(\"cleaned.csv\")\n",
    "X = df.drop(columns=['DEATH_EVENT'])\n",
    "\n",
    "# Target Variable\n",
    "y = df['DEATH_EVENT']\n",
    "X_train_70, X_test_30, y_train_70, y_test_30 = train_test_split(X,\n",
    "                                y,stratify=y,\n",
    "                                test_size=0.3,\n",
    "                                random_state=42)"
   ]
  },
  {
   "cell_type": "code",
   "execution_count": 19,
   "metadata": {},
   "outputs": [
    {
     "name": "stdout",
     "output_type": "stream",
     "text": [
      "[0.06129579 0.01231638 0.08669576 0.01088548 0.12579056 0.01184544\n",
      " 0.07006881 0.15405062 0.06618383 0.00813227 0.014376   0.37835906]\n"
     ]
    },
    {
     "data": {
      "image/png": "[encoded data removed]",
      "text/plain": [
       "<Figure size 432x288 with 1 Axes>"
      ]
     },
     "metadata": {
      "needs_background": "light"
     },
     "output_type": "display_data"
    }
   ],
   "source": [
    "rf.fit(X_train_70,y_train_70)\n",
    "print(rf.feature_importances_) \n",
    "feat_importances = pd.Series(rf.feature_importances_, index=X_train_70.columns)\n",
    "feat_importances.nlargest(12).plot(kind='barh')\n",
    "plt.show()"
   ]
  },
  {
   "cell_type": "code",
   "execution_count": 15,
   "metadata": {},
   "outputs": [
    {
     "name": "stdout",
     "output_type": "stream",
     "text": [
      "[0.06763517 0.02553042 0.08225709 0.03007604 0.13549359 0.03082613\n",
      " 0.06921631 0.14020333 0.08163028 0.02483046 0.025821   0.28648018]\n"
     ]
    },
    {
     "data": {
      "image/png": "[encoded data removed]",
      "text/plain": [
       "<Figure size 432x288 with 1 Axes>"
      ]
     },
     "metadata": {
      "needs_background": "light"
     },
     "output_type": "display_data"
    }
   ],
   "source": [
    "etc = ExtraTreesClassifier()\n",
    "etc.fit(X_train_70,y_train_70)\n",
    "print(etc.feature_importances_) \n",
    "feat_importances = pd.Series(etc.feature_importances_, index=X_train_70.columns)\n",
    "feat_importances.nlargest(12).plot(kind='barh')\n",
    "plt.show()"
   ]
  },
  {
   "cell_type": "code",
   "execution_count": 16,
   "metadata": {},
   "outputs": [
    {
     "name": "stdout",
     "output_type": "stream",
     "text": [
      "[0.02989261 0.         0.17400497 0.01464508 0.04368704 0.\n",
      " 0.03321296 0.09057279 0.05701122 0.01318058 0.         0.54379274]\n"
     ]
    },
    {
     "data": {
      "image/png": "[encoded data removed]",
      "text/plain": [
       "<Figure size 432x288 with 1 Axes>"
      ]
     },
     "metadata": {
      "needs_background": "light"
     },
     "output_type": "display_data"
    }
   ],
   "source": [
    "dt.fit(X_train_70,y_train_70)\n",
    "print(dt.feature_importances_) \n",
    "feat_importances = pd.Series(dt.feature_importances_, index=X_train_70.columns)\n",
    "feat_importances.nlargest(12).plot(kind='barh')\n",
    "plt.show()"
   ]
  },
  {
   "cell_type": "code",
   "execution_count": 17,
   "metadata": {},
   "outputs": [
    {
     "name": "stdout",
     "output_type": "stream",
     "text": [
      "[1.03359065e-02 2.74674981e-03 8.75039029e-02 5.50148975e-03\n",
      " 1.14317837e-01 2.65167555e-09 4.67931216e-02 1.07019136e-01\n",
      " 3.56609622e-02 4.23828835e-05 3.47428253e-03 5.86604226e-01]\n"
     ]
    },
    {
     "data": {
      "image/png": "[encoded data removed]",
      "text/plain": [
       "<Figure size 432x288 with 1 Axes>"
      ]
     },
     "metadata": {
      "needs_background": "light"
     },
     "output_type": "display_data"
    }
   ],
   "source": [
    "from sklearn.ensemble import GradientBoostingClassifier\n",
    "gbc=GradientBoostingClassifier()\n",
    "gbc.fit(X_train_70,y_train_70)\n",
    "print(gbc.feature_importances_) \n",
    "feat_importances = pd.Series(gbc.feature_importances_, index=X_train_70.columns)\n",
    "feat_importances.nlargest(12).plot(kind='barh')\n",
    "plt.show()"
   ]
  }
 ],
 "metadata": {
  "kernelspec": {
   "display_name": "Python 3",
   "language": "python",
   "name": "python3"
  },
  "language_info": {
   "codemirror_mode": {
    "name": "ipython",
    "version": 3
   },
   "file_extension": ".py",
   "mimetype": "text/x-python",
   "name": "python",
   "nbconvert_exporter": "python",
   "pygments_lexer": "ipython3",
   "version": "3.8.5"
  }
 },
 "nbformat": 4,
 "nbformat_minor": 4
}
