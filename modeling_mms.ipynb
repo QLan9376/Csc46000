{
 "cells": [
  {
   "cell_type": "code",
   "execution_count": 1,
   "metadata": {},
   "outputs": [],
   "source": [
    "# Import\n",
    "import pandas as pd\n",
    "import numpy as np\n",
    "import seaborn as sns\n",
    "import matplotlib.pyplot as plt\n",
    "from sklearn.metrics import roc_curve\n",
    "from sklearn.metrics import roc_auc_score\n",
    "from sklearn.linear_model import LogisticRegression\n",
    "from sklearn.tree import DecisionTreeClassifier\n",
    "from sklearn.ensemble import RandomForestClassifier\n",
    "from sklearn.ensemble import ExtraTreesClassifier\n",
    "from sklearn.model_selection import train_test_split\n",
    "from sklearn.metrics import f1_score\n",
    "from sklearn.metrics import confusion_matrix\n",
    "from sklearn.metrics import plot_confusion_matrix\n",
    "from sklearn.preprocessing import MinMaxScaler"
   ]
  },
  {
   "cell_type": "code",
   "execution_count": 2,
   "metadata": {},
   "outputs": [],
   "source": [
    "df = pd.read_csv(\"cleaned.csv\")\n",
    "\n",
    "# Drop unnecessary features\n",
    "df = df.drop(['anaemia', 'creatinine_phosphokinase', 'diabetes', 'high_blood_pressure', 'platelets', 'sex', 'smoking'], axis=1)\n",
    "\n",
    "# Feature variable\n",
    "X = df.drop('DEATH_EVENT', axis=1)\n",
    "\n",
    "# Target Variable\n",
    "y = df['DEATH_EVENT']"
   ]
  },
  {
   "cell_type": "code",
   "execution_count": 3,
   "metadata": {},
   "outputs": [],
   "source": [
    "X_train_70, X_test_30, y_train_70, y_test_30 = train_test_split(X,\n",
    "                                y,stratify=y,\n",
    "                                test_size=0.3,\n",
    "                                random_state=42)"
   ]
  },
  {
   "cell_type": "code",
   "execution_count": 4,
   "metadata": {},
   "outputs": [],
   "source": [
    "scaler = MinMaxScaler()\n",
    "\n",
    "X_train_70_scaled = scaler.fit_transform(X_train_70)\n",
    "X_test_30_scaled = scaler.transform(X_test_30)"
   ]
  },
  {
   "cell_type": "code",
   "execution_count": 5,
   "metadata": {},
   "outputs": [
    {
     "name": "stdout",
     "output_type": "stream",
     "text": [
      "Accuracy of logistic regression classifier using 70% training data:  0.8222\n",
      "F1 score for 70% training data 0.6522 \n",
      "\n"
     ]
    },
    {
     "name": "stderr",
     "output_type": "stream",
     "text": [
      "/Users/asma/opt/anaconda3/lib/python3.8/site-packages/sklearn/utils/deprecation.py:87: FutureWarning: Function plot_confusion_matrix is deprecated; Function `plot_confusion_matrix` is deprecated in 1.0 and will be removed in 1.2. Use one of the class methods: ConfusionMatrixDisplay.from_predictions or ConfusionMatrixDisplay.from_estimator.\n",
      "  warnings.warn(msg, category=FutureWarning)\n"
     ]
    },
    {
     "data": {
      "text/plain": [
       "<sklearn.metrics._plot.confusion_matrix.ConfusionMatrixDisplay at 0x7fb0f56a0040>"
      ]
     },
     "execution_count": 5,
     "metadata": {},
     "output_type": "execute_result"
    },
    {
     "data": {
      "image/png": "[encoded data removed]",
      "text/plain": [
       "<Figure size 432x288 with 2 Axes>"
      ]
     },
     "metadata": {
      "needs_background": "light"
     },
     "output_type": "display_data"
    }
   ],
   "source": [
    "# Instantiate the classifier\n",
    "logreg = LogisticRegression(random_state=42)\n",
    "\n",
    "# Fit the classifier\n",
    "logreg.fit(X_train_70_scaled, y_train_70)\n",
    "\n",
    "# Predict instances from the test set\n",
    "logreg_y_pred = logreg.predict(X_test_30_scaled)\n",
    "\n",
    "logreg_accuracy = round(logreg.score(X_test_30_scaled, y_test_30), 4)\n",
    "logreg_f1_score = round(f1_score(y_test_30, logreg_y_pred), 4)\n",
    "\n",
    "# Print the accuracy score of the model\n",
    "print(\"Accuracy of logistic regression classifier using 70% training data: \", logreg_accuracy)\n",
    "\n",
    "# Print the F1 score\n",
    "print(\"F1 score for 70% training data\", logreg_f1_score, \"\\n\")\n",
    "\n",
    "plot_confusion_matrix(logreg, X_test_30_scaled, y_test_30)"
   ]
  },
  {
   "cell_type": "code",
   "execution_count": 6,
   "metadata": {},
   "outputs": [
    {
     "name": "stdout",
     "output_type": "stream",
     "text": [
      "Accuracy of logistic regression classifier using 70% training data:  0.8111\n",
      "F1 score for 70% training data 0.6792 \n",
      "\n"
     ]
    },
    {
     "name": "stderr",
     "output_type": "stream",
     "text": [
      "/Users/asma/opt/anaconda3/lib/python3.8/site-packages/sklearn/utils/deprecation.py:87: FutureWarning: Function plot_confusion_matrix is deprecated; Function `plot_confusion_matrix` is deprecated in 1.0 and will be removed in 1.2. Use one of the class methods: ConfusionMatrixDisplay.from_predictions or ConfusionMatrixDisplay.from_estimator.\n",
      "  warnings.warn(msg, category=FutureWarning)\n"
     ]
    },
    {
     "data": {
      "text/plain": [
       "<sklearn.metrics._plot.confusion_matrix.ConfusionMatrixDisplay at 0x7fb0f94091c0>"
      ]
     },
     "execution_count": 6,
     "metadata": {},
     "output_type": "execute_result"
    },
    {
     "data": {
      "image/png": "[encoded data removed]",
      "text/plain": [
       "<Figure size 432x288 with 2 Axes>"
      ]
     },
     "metadata": {
      "needs_background": "light"
     },
     "output_type": "display_data"
    }
   ],
   "source": [
    "dt = DecisionTreeClassifier(random_state=42)\n",
    "\n",
    "# Fit the classifier\n",
    "dt.fit(X_train_70_scaled, y_train_70)\n",
    "\n",
    "dt_y_pred = dt.predict(X_test_30_scaled)\n",
    "\n",
    "dt_accuracy = round(dt.score(X_test_30_scaled, y_test_30), 4)\n",
    "dt_f1_score = round(f1_score(y_test_30, dt_y_pred), 4)\n",
    "\n",
    "# Print the accuracy score of the model\n",
    "print(\"Accuracy of logistic regression classifier using 70% training data: \", dt_accuracy)\n",
    "\n",
    "# Print the F1 score\n",
    "print(\"F1 score for 70% training data\", dt_f1_score, \"\\n\")\n",
    "\n",
    "plot_confusion_matrix(dt, X_test_30_scaled, y_test_30) "
   ]
  },
  {
   "cell_type": "code",
   "execution_count": 7,
   "metadata": {},
   "outputs": [
    {
     "name": "stdout",
     "output_type": "stream",
     "text": [
      "Accuracy of logistic regression classifier using 70% training data:  0.8222\n",
      "F1 score for 70% training data 0.7037 \n",
      "\n"
     ]
    },
    {
     "name": "stderr",
     "output_type": "stream",
     "text": [
      "/Users/asma/opt/anaconda3/lib/python3.8/site-packages/sklearn/utils/deprecation.py:87: FutureWarning: Function plot_confusion_matrix is deprecated; Function `plot_confusion_matrix` is deprecated in 1.0 and will be removed in 1.2. Use one of the class methods: ConfusionMatrixDisplay.from_predictions or ConfusionMatrixDisplay.from_estimator.\n",
      "  warnings.warn(msg, category=FutureWarning)\n"
     ]
    },
    {
     "data": {
      "text/plain": [
       "<sklearn.metrics._plot.confusion_matrix.ConfusionMatrixDisplay at 0x7fb0f96276d0>"
      ]
     },
     "execution_count": 7,
     "metadata": {},
     "output_type": "execute_result"
    },
    {
     "data": {
      "image/png": "[encoded data removed]",
      "text/plain": [
       "<Figure size 432x288 with 2 Axes>"
      ]
     },
     "metadata": {
      "needs_background": "light"
     },
     "output_type": "display_data"
    }
   ],
   "source": [
    "rf = RandomForestClassifier(random_state=42)\n",
    "\n",
    "# Fit the classifier\n",
    "rf.fit(X_train_70_scaled, y_train_70)\n",
    "\n",
    "rf_y_pred = rf.predict(X_test_30_scaled)\n",
    "\n",
    "rf_accuracy = round(rf.score(X_test_30_scaled, y_test_30), 4)\n",
    "rf_f1_score = round(f1_score(y_test_30, rf_y_pred), 4)\n",
    "\n",
    "# Print the accuracy score of the model\n",
    "print(\"Accuracy of logistic regression classifier using 70% training data: \", rf_accuracy)\n",
    "\n",
    "# Print the F1 score\n",
    "print(\"F1 score for 70% training data\", rf_f1_score, \"\\n\")\n",
    "plot_confusion_matrix(rf, X_test_30_scaled, y_test_30) "
   ]
  },
  {
   "cell_type": "code",
   "execution_count": null,
   "metadata": {},
   "outputs": [],
   "source": []
  }
 ],
 "metadata": {
  "kernelspec": {
   "display_name": "Python 3",
   "language": "python",
   "name": "python3"
  },
  "language_info": {
   "codemirror_mode": {
    "name": "ipython",
    "version": 3
   },
   "file_extension": ".py",
   "mimetype": "text/x-python",
   "name": "python",
   "nbconvert_exporter": "python",
   "pygments_lexer": "ipython3",
   "version": "3.8.5"
  }
 },
 "nbformat": 4,
 "nbformat_minor": 4
}
