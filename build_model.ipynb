{
  "nbformat": 4,
  "nbformat_minor": 0,
  "metadata": {
    "colab": {
      "name": "build_model.ipynb",
      "provenance": [],
      "collapsed_sections": []
    },
    "kernelspec": {
      "name": "python3",
      "display_name": "Python 3"
    },
    "language_info": {
      "name": "python"
    }
  },
  "cells": [
    {
      "cell_type": "code",
      "metadata": {
        "id": "W8pxNjbXgxuo"
      },
      "source": [
        "# Import\n",
        "import pandas as pd\n",
        "import numpy as np\n",
        "import seaborn as sns\n",
        "import matplotlib.pyplot as plt\n",
        "from sklearn.metrics import roc_curve\n",
        "from sklearn.metrics import roc_auc_score\n",
        "from sklearn.linear_model import LogisticRegression\n",
        "from sklearn.tree import DecisionTreeClassifier\n",
        "from sklearn.ensemble import RandomForestClassifier\n",
        "from sklearn.model_selection import train_test_split\n",
        "from sklearn.metrics import f1_score\n",
        "from sklearn.metrics import confusion_matrix\n",
        "from sklearn.metrics import plot_confusion_matrix\n",
        "from sklearn.preprocessing import StandardScaler"
      ],
      "execution_count": null,
      "outputs": []
    },
    {
      "cell_type": "code",
      "source": [
        "pip install matplotlib==3.4.2"
      ],
      "metadata": {
        "colab": {
          "base_uri": "https://localhost:8080/",
          "height": 416
        },
        "id": "AJ1kvhx1e6Vn",
        "outputId": "b18db3f1-1006-4fb2-e44c-fc95bc46eca5"
      },
      "execution_count": null,
      "outputs": [
        {
          "output_type": "stream",
          "name": "stdout",
          "text": [
            "Collecting matplotlib==3.4.2\n",
            "  Downloading matplotlib-3.4.2-cp37-cp37m-manylinux1_x86_64.whl (10.3 MB)\n",
            "\u001b[K     |████████████████████████████████| 10.3 MB 12.3 MB/s \n",
            "\u001b[?25hRequirement already satisfied: kiwisolver>=1.0.1 in /usr/local/lib/python3.7/dist-packages (from matplotlib==3.4.2) (1.3.2)\n",
            "Requirement already satisfied: numpy>=1.16 in /usr/local/lib/python3.7/dist-packages (from matplotlib==3.4.2) (1.19.5)\n",
            "Requirement already satisfied: cycler>=0.10 in /usr/local/lib/python3.7/dist-packages (from matplotlib==3.4.2) (0.11.0)\n",
            "Requirement already satisfied: pyparsing>=2.2.1 in /usr/local/lib/python3.7/dist-packages (from matplotlib==3.4.2) (3.0.6)\n",
            "Requirement already satisfied: python-dateutil>=2.7 in /usr/local/lib/python3.7/dist-packages (from matplotlib==3.4.2) (2.8.2)\n",
            "Requirement already satisfied: pillow>=6.2.0 in /usr/local/lib/python3.7/dist-packages (from matplotlib==3.4.2) (7.1.2)\n",
            "Requirement already satisfied: six>=1.5 in /usr/local/lib/python3.7/dist-packages (from python-dateutil>=2.7->matplotlib==3.4.2) (1.15.0)\n",
            "Installing collected packages: matplotlib\n",
            "  Attempting uninstall: matplotlib\n",
            "    Found existing installation: matplotlib 3.2.2\n",
            "    Uninstalling matplotlib-3.2.2:\n",
            "      Successfully uninstalled matplotlib-3.2.2\n",
            "\u001b[31mERROR: pip's dependency resolver does not currently take into account all the packages that are installed. This behaviour is the source of the following dependency conflicts.\n",
            "albumentations 0.1.12 requires imgaug<0.2.7,>=0.2.5, but you have imgaug 0.2.9 which is incompatible.\u001b[0m\n",
            "Successfully installed matplotlib-3.4.2\n"
          ]
        },
        {
          "output_type": "display_data",
          "data": {
            "application/vnd.colab-display-data+json": {
              "pip_warning": {
                "packages": [
                  "matplotlib",
                  "mpl_toolkits"
                ]
              }
            }
          },
          "metadata": {}
        }
      ]
    },
    {
      "cell_type": "code",
      "source": [
        "# Ignore the warning for using plot confusion matrix\n",
        "import warnings\n",
        "warnings.filterwarnings(\"ignore\")"
      ],
      "metadata": {
        "id": "xY5aMtxRLFIX"
      },
      "execution_count": null,
      "outputs": []
    },
    {
      "cell_type": "code",
      "metadata": {
        "id": "Ys-b6sk_hTAP"
      },
      "source": [
        "df = pd.read_csv(\"cleaned.csv\")\n",
        "\n",
        "# Drop unnecessary features\n",
        "df = df.drop(['anaemia', 'creatinine_phosphokinase', 'diabetes', 'high_blood_pressure', 'platelets', 'sex', 'smoking'], axis=1)\n",
        "\n",
        "# Feature variable\n",
        "X = df.drop('DEATH_EVENT', axis=1)\n",
        "\n",
        "# Target Variable\n",
        "y = df['DEATH_EVENT']"
      ],
      "execution_count": null,
      "outputs": []
    },
    {
      "cell_type": "code",
      "metadata": {
        "id": "b_iUH9JshZAL"
      },
      "source": [
        "# 70% Training and 30% testing tests\n",
        "X_train_70, X_test_30, y_train_70, y_test_30 = train_test_split(X,\n",
        "                                y,\n",
        "                                test_size=0.3,\n",
        "                                random_state=42)"
      ],
      "execution_count": null,
      "outputs": []
    },
    {
      "cell_type": "code",
      "source": [
        "# 80% Training and 20% testing tests\n",
        "X_train_80, X_test_20, y_train_80, y_test_20 = train_test_split(X,\n",
        "                                y,\n",
        "                                test_size=0.2,\n",
        "                                random_state=42)"
      ],
      "metadata": {
        "id": "CDTyFoTKBNMG"
      },
      "execution_count": null,
      "outputs": []
    },
    {
      "cell_type": "code",
      "source": [
        "# 90% Training and 10% testing tests\n",
        "X_train_90, X_test_10, y_train_90, y_test_10 = train_test_split(X,\n",
        "                                y,\n",
        "                                test_size=0.1,\n",
        "                                random_state=42)"
      ],
      "metadata": {
        "id": "O1kcwqZlBSKk"
      },
      "execution_count": null,
      "outputs": []
    },
    {
      "cell_type": "code",
      "source": [
        "scaler = StandardScaler()\n",
        "\n",
        "X_train_70_scaled = scaler.fit_transform(X_train_70)\n",
        "X_test_30_scaled = scaler.transform(X_test_30)\n",
        "\n",
        "X_train_80_scaled = scaler.fit_transform(X_train_80)\n",
        "X_test_20_scaled = scaler.transform(X_test_20)\n",
        "\n",
        "X_train_90_scaled = scaler.fit_transform(X_train_90)\n",
        "X_test_10_scaled = scaler.transform(X_test_10)"
      ],
      "metadata": {
        "id": "gbN-Wyk1J_p4"
      },
      "execution_count": null,
      "outputs": []
    },
    {
      "cell_type": "markdown",
      "source": [
        "## **Logistic Regression**"
      ],
      "metadata": {
        "id": "PgmuQfxRFM1N"
      }
    },
    {
      "cell_type": "code",
      "source": [
        "# Instantiate the classifier\n",
        "logreg = LogisticRegression()\n",
        "\n",
        "# Fit the classifier\n",
        "logreg.fit(X_train_70_scaled, y_train_70)\n",
        "\n",
        "# Predict instances from the test set\n",
        "logreg_y_pred = logreg.predict(X_test_30_scaled)\n",
        "\n",
        "logreg_accuracy = round(logreg.score(X_test_30_scaled, y_test_30), 4)\n",
        "logreg_f1_score = round(f1_score(y_test_30, logreg_y_pred), 4)\n",
        "\n",
        "# Print the accuracy score of the model\n",
        "print(\"Accuracy of logistic regression classifier using 70% training data: \", logreg_accuracy)\n",
        "\n",
        "# Print the F1 score\n",
        "print(\"F1 score for 70% training data\", logreg_f1_score, \"\\n\")\n",
        "\n",
        "plot_confusion_matrix(logreg, X_test_30_scaled, y_test_30)\n",
        "plt.title(\"Logisitic Regression Confusion Matrix\")  \n",
        "plt.xticks(range(2), [\"Heart Not Failed\",\"Heart Failed\"], fontsize=12)\n",
        "plt.yticks(range(2), [\"Heart Not Failed\",\"Heart Failed\"], fontsize=12)\n",
        "plt.show()"
      ],
      "metadata": {
        "colab": {
          "base_uri": "https://localhost:8080/",
          "height": 345
        },
        "id": "9a2i091O5VqD",
        "outputId": "4fd17b9f-4af6-4c03-84c2-a6f3a261dac7"
      },
      "execution_count": null,
      "outputs": [
        {
          "output_type": "stream",
          "name": "stdout",
          "text": [
            "Accuracy of logistic regression classifier using 70% training data:  0.8\n",
            "F1 score for 70% training data 0.7097 \n",
            "\n"
          ]
        },
        {
          "output_type": "display_data",
          "data": {
            "image/png": "[encoded data removed]",
            "text/plain": [
              "<Figure size 432x288 with 2 Axes>"
            ]
          },
          "metadata": {
            "needs_background": "light"
          }
        }
      ]
    },
    {
      "cell_type": "code",
      "source": [
        "logreg_y_test = np.array(y_test_30)\n",
        "logreg_result_compare = np.concatenate((logreg_y_test.reshape(len(y_test_30), 1), logreg_y_pred.reshape(len(logreg_y_pred), 1)), 1)\n",
        "print(\"Outcome,\", \"Prediction\")\n",
        "print(logreg_result_compare)"
      ],
      "metadata": {
        "colab": {
          "base_uri": "https://localhost:8080/"
        },
        "id": "mD8w20xYR_gg",
        "outputId": "44919cdd-90f2-4b93-95eb-52e5dbb71675"
      },
      "execution_count": null,
      "outputs": [
        {
          "output_type": "stream",
          "name": "stdout",
          "text": [
            "Outcome, Prediction\n",
            "[[0 0]\n",
            " [0 0]\n",
            " [1 0]\n",
            " [1 1]\n",
            " [0 0]\n",
            " [0 0]\n",
            " [1 1]\n",
            " [0 0]\n",
            " [1 1]\n",
            " [0 0]\n",
            " [0 0]\n",
            " [1 0]\n",
            " [1 0]\n",
            " [0 0]\n",
            " [0 0]\n",
            " [1 0]\n",
            " [0 0]\n",
            " [0 0]\n",
            " [1 0]\n",
            " [1 0]\n",
            " [0 0]\n",
            " [0 0]\n",
            " [0 0]\n",
            " [1 1]\n",
            " [1 1]\n",
            " [0 0]\n",
            " [0 0]\n",
            " [0 0]\n",
            " [1 0]\n",
            " [0 0]\n",
            " [1 1]\n",
            " [0 0]\n",
            " [0 1]\n",
            " [1 1]\n",
            " [1 1]\n",
            " [1 0]\n",
            " [1 0]\n",
            " [1 0]\n",
            " [0 0]\n",
            " [0 0]\n",
            " [1 1]\n",
            " [1 1]\n",
            " [0 0]\n",
            " [0 0]\n",
            " [0 0]\n",
            " [0 0]\n",
            " [0 0]\n",
            " [0 0]\n",
            " [0 0]\n",
            " [0 0]\n",
            " [1 1]\n",
            " [1 0]\n",
            " [1 0]\n",
            " [0 0]\n",
            " [0 0]\n",
            " [0 0]\n",
            " [0 0]\n",
            " [1 1]\n",
            " [0 0]\n",
            " [1 1]\n",
            " [1 1]\n",
            " [1 0]\n",
            " [1 0]\n",
            " [0 0]\n",
            " [1 1]\n",
            " [1 1]\n",
            " [0 0]\n",
            " [0 1]\n",
            " [0 0]\n",
            " [0 0]\n",
            " [1 1]\n",
            " [0 1]\n",
            " [0 0]\n",
            " [0 0]\n",
            " [0 0]\n",
            " [0 0]\n",
            " [0 0]\n",
            " [1 1]\n",
            " [0 0]\n",
            " [0 0]\n",
            " [1 0]\n",
            " [1 1]\n",
            " [0 0]\n",
            " [0 0]\n",
            " [0 0]\n",
            " [0 0]\n",
            " [1 1]\n",
            " [1 1]\n",
            " [1 1]\n",
            " [0 0]]\n"
          ]
        }
      ]
    },
    {
      "cell_type": "code",
      "source": [
        "logreg_prediction_error_list = []\n",
        "logreg_failed_error_list = []\n",
        "logreg_not_failed_error_list = []\n",
        "\n",
        "for pair in logreg_result_compare: \n",
        "\n",
        "  if pair[0] != pair[1]:\n",
        "    logreg_prediction_error_list.append(pair)\n",
        "\n",
        "for error in logreg_prediction_error_list:\n",
        "\n",
        "  if error[0] == 0:\n",
        "    logreg_not_failed_error_list.append(error[0])\n",
        "\n",
        "  else:\n",
        "    logreg_failed_error_list.append(error[0])\n",
        "\n",
        "logreg_prediction_error = len(logreg_prediction_error_list)\n",
        "logreg_failed_error = len(logreg_failed_error_list)\n",
        "logreg_not_failed_error = len(logreg_not_failed_error_list)\n",
        "\n",
        "print(\"Wrong Predictions:\", logreg_prediction_error)\n",
        "print(\"Alive, but predicted dead:\", logreg_not_failed_error)\n",
        "print(\"Dead, but predicted alive:\", logreg_failed_error)"
      ],
      "metadata": {
        "colab": {
          "base_uri": "https://localhost:8080/"
        },
        "id": "RIm1aEuSTCuF",
        "outputId": "1000da42-8e44-43ae-e868-5198e679316f"
      },
      "execution_count": null,
      "outputs": [
        {
          "output_type": "stream",
          "name": "stdout",
          "text": [
            "Wrong Predictions: 18\n",
            "Alive, but predicted dead: 3\n",
            "Dead, but predicted alive: 15\n"
          ]
        }
      ]
    },
    {
      "cell_type": "code",
      "source": [
        "# Fit the classifier\n",
        "logreg.fit(X_train_80_scaled, y_train_80)\n",
        "\n",
        "# Predict instances from the test set\n",
        "y_pred = logreg.predict(X_test_20_scaled)\n",
        "\n",
        "logreg_accuracy = round(logreg.score(X_test_20_scaled, y_test_20), 4)\n",
        "logreg_f1_score = round(f1_score(y_test_20, y_pred), 4)\n",
        "\n",
        "# Print the accuracy score of the model\n",
        "print(\"Accuracy of logistic regression classifier using 80% training data: \", logreg_accuracy)\n",
        "\n",
        "# Print the F1 score\n",
        "print(\"F1 score for 80% training data\", logreg_f1_score, \"\\n\")\n",
        "\n",
        "plot_confusion_matrix(logreg, X_test_20_scaled, y_test_20)\n",
        "plt.title(\"Logisitic Regression Confusion Matrix\")  \n",
        "plt.xticks(range(2), [\"Heart Not Failed\",\"Heart Failed\"], fontsize=12)\n",
        "plt.yticks(range(2), [\"Heart Not Failed\",\"Heart Failed\"], fontsize=12)\n",
        "plt.show()"
      ],
      "metadata": {
        "colab": {
          "base_uri": "https://localhost:8080/",
          "height": 345
        },
        "id": "lyWNYciZ5WLR",
        "outputId": "d558dac4-091c-46cf-cb9c-70111c6ad9a6"
      },
      "execution_count": null,
      "outputs": [
        {
          "output_type": "stream",
          "name": "stdout",
          "text": [
            "Accuracy of logistic regression classifier using 80% training data:  0.7833\n",
            "F1 score for 80% training data 0.6667 \n",
            "\n"
          ]
        },
        {
          "output_type": "display_data",
          "data": {
            "image/png": "[encoded data removed]",
            "text/plain": [
              "<Figure size 432x288 with 2 Axes>"
            ]
          },
          "metadata": {
            "needs_background": "light"
          }
        }
      ]
    },
    {
      "cell_type": "code",
      "source": [
        "# Fit the classifier\n",
        "logreg.fit(X_train_90_scaled, y_train_90)\n",
        "\n",
        "# Predict instances from the test set\n",
        "y_pred = logreg.predict(X_test_10_scaled)\n",
        "\n",
        "logreg_accuracy = round(logreg.score(X_test_10_scaled, y_test_10), 4)\n",
        "logreg_f1_score = round(f1_score(y_test_10, y_pred), 4)\n",
        "\n",
        "# Print the accuracy score of the model\n",
        "print(\"Accuracy of logistic regression classifier using 90% training data: \", logreg_accuracy)\n",
        "\n",
        "# Print the F1 score\n",
        "print(\"F1 score for 90% training data\", logreg_f1_score, \"\\n\")\n",
        "\n",
        "plot_confusion_matrix(logreg, X_test_10_scaled, y_test_10)\n",
        "plt.title(\"Logisitic Regression Confusion Matrix\") \n",
        "plt.xticks(range(2), [\"Heart Not Failed\",\"Heart Failed\"], fontsize=12)\n",
        "plt.yticks(range(2), [\"Heart Not Failed\",\"Heart Failed\"], fontsize=12)\n",
        "plt.show()"
      ],
      "metadata": {
        "colab": {
          "base_uri": "https://localhost:8080/",
          "height": 345
        },
        "id": "SoWyVio8EyDI",
        "outputId": "f561950c-bf63-4352-c46a-fdc5fc51f7ad"
      },
      "execution_count": null,
      "outputs": [
        {
          "output_type": "stream",
          "name": "stdout",
          "text": [
            "Accuracy of logistic regression classifier using 90% training data:  0.7667\n",
            "F1 score for 90% training data 0.5882 \n",
            "\n"
          ]
        },
        {
          "output_type": "display_data",
          "data": {
            "image/png": "[encoded data removed]",
            "text/plain": [
              "<Figure size 432x288 with 2 Axes>"
            ]
          },
          "metadata": {
            "needs_background": "light"
          }
        }
      ]
    },
    {
      "cell_type": "markdown",
      "source": [
        "## **Decision Tree**"
      ],
      "metadata": {
        "id": "s7Qeeo5HFWpv"
      }
    },
    {
      "cell_type": "code",
      "metadata": {
        "colab": {
          "base_uri": "https://localhost:8080/",
          "height": 345
        },
        "id": "bDkiqAFNheCM",
        "outputId": "e529e2d9-42ee-4547-c059-cf502a0c5212"
      },
      "source": [
        "dt = DecisionTreeClassifier()\n",
        "\n",
        "# Fit the classifier\n",
        "dt.fit(X_train_70_scaled, y_train_70)\n",
        "\n",
        "dt_y_pred = dt.predict(X_test_30_scaled)\n",
        "\n",
        "dt_accuracy = round(dt.score(X_test_30_scaled, y_test_30), 4)\n",
        "dt_f1_score = round(f1_score(y_test_30, dt_y_pred), 4)\n",
        "\n",
        "# Print the accuracy score of the model\n",
        "print(\"Accuracy of logistic regression classifier using 70% training data: \", dt_accuracy)\n",
        "\n",
        "# Print the F1 score\n",
        "print(\"F1 score for 70% training data\", dt_f1_score, \"\\n\")\n",
        "\n",
        "plot_confusion_matrix(dt, X_test_30_scaled, y_test_30)  \n",
        "plt.title(\"Decision Tree Confusion Matrix\")  \n",
        "plt.xticks(range(2), [\"Heart Not Failed\",\"Heart Failed\"], fontsize=12)\n",
        "plt.yticks(range(2), [\"Heart Not Failed\",\"Heart Failed\"], fontsize=12)\n",
        "plt.show()"
      ],
      "execution_count": null,
      "outputs": [
        {
          "output_type": "stream",
          "name": "stdout",
          "text": [
            "Accuracy of logistic regression classifier using 70% training data:  0.7111\n",
            "F1 score for 70% training data 0.6176 \n",
            "\n"
          ]
        },
        {
          "output_type": "display_data",
          "data": {
            "image/png": "[encoded data removed]",
            "text/plain": [
              "<Figure size 432x288 with 2 Axes>"
            ]
          },
          "metadata": {
            "needs_background": "light"
          }
        }
      ]
    },
    {
      "cell_type": "code",
      "source": [
        "dt_y_test = np.array(y_test_30)\n",
        "dt_result_compare = np.concatenate((dt_y_test.reshape(len(y_test_30), 1), dt_y_pred.reshape(len(dt_y_pred), 1)), 1)\n",
        "print(\"Outcome,\", \"Prediction\")\n",
        "print(dt_result_compare)"
      ],
      "metadata": {
        "colab": {
          "base_uri": "https://localhost:8080/"
        },
        "id": "DDHHh7pRSNOQ",
        "outputId": "a9dbe469-9235-41a1-d4b8-ca90d4421e75"
      },
      "execution_count": null,
      "outputs": [
        {
          "output_type": "stream",
          "name": "stdout",
          "text": [
            "Outcome, Prediction\n",
            "[[0 1]\n",
            " [0 0]\n",
            " [1 0]\n",
            " [1 1]\n",
            " [0 0]\n",
            " [0 0]\n",
            " [1 0]\n",
            " [0 1]\n",
            " [1 1]\n",
            " [0 0]\n",
            " [0 0]\n",
            " [1 0]\n",
            " [1 0]\n",
            " [0 0]\n",
            " [0 1]\n",
            " [1 0]\n",
            " [0 0]\n",
            " [0 0]\n",
            " [1 1]\n",
            " [1 1]\n",
            " [0 0]\n",
            " [0 1]\n",
            " [0 1]\n",
            " [1 1]\n",
            " [1 1]\n",
            " [0 0]\n",
            " [0 0]\n",
            " [0 0]\n",
            " [1 0]\n",
            " [0 0]\n",
            " [1 0]\n",
            " [0 0]\n",
            " [0 0]\n",
            " [1 1]\n",
            " [1 1]\n",
            " [1 1]\n",
            " [1 0]\n",
            " [1 0]\n",
            " [0 0]\n",
            " [0 0]\n",
            " [1 1]\n",
            " [1 0]\n",
            " [0 0]\n",
            " [0 0]\n",
            " [0 0]\n",
            " [0 0]\n",
            " [0 0]\n",
            " [0 0]\n",
            " [0 0]\n",
            " [0 0]\n",
            " [1 0]\n",
            " [1 0]\n",
            " [1 0]\n",
            " [0 1]\n",
            " [0 0]\n",
            " [0 0]\n",
            " [0 0]\n",
            " [1 1]\n",
            " [0 0]\n",
            " [1 1]\n",
            " [1 1]\n",
            " [1 1]\n",
            " [1 0]\n",
            " [0 0]\n",
            " [1 1]\n",
            " [1 1]\n",
            " [0 0]\n",
            " [0 1]\n",
            " [0 0]\n",
            " [0 0]\n",
            " [1 0]\n",
            " [0 0]\n",
            " [0 0]\n",
            " [0 1]\n",
            " [0 1]\n",
            " [0 1]\n",
            " [0 0]\n",
            " [1 1]\n",
            " [0 0]\n",
            " [0 0]\n",
            " [1 0]\n",
            " [1 1]\n",
            " [0 0]\n",
            " [0 0]\n",
            " [0 0]\n",
            " [0 0]\n",
            " [1 1]\n",
            " [1 1]\n",
            " [1 1]\n",
            " [0 0]]\n"
          ]
        }
      ]
    },
    {
      "cell_type": "code",
      "source": [
        "dt_prediction_error_list = []\n",
        "dt_failed_error_list = []\n",
        "dt_not_failed_error_list = []\n",
        "\n",
        "for pair in dt_result_compare: \n",
        "\n",
        "  if pair[0] != pair[1]:\n",
        "    dt_prediction_error_list.append(pair)\n",
        "\n",
        "for error in dt_prediction_error_list:\n",
        "\n",
        "  if error[0] == 0:\n",
        "    dt_not_failed_error_list.append(error[0])\n",
        "\n",
        "  else:\n",
        "    dt_failed_error_list.append(error[0])\n",
        "\n",
        "dt_prediction_error = len(dt_prediction_error_list)\n",
        "dt_failed_error = len(dt_failed_error_list)\n",
        "dt_not_failed_error = len(dt_not_failed_error_list)\n",
        "\n",
        "print(\"Wrong Predictions:\", dt_prediction_error)\n",
        "print(\"Alive, but predicted dead:\", dt_not_failed_error)\n",
        "print(\"Dead, but predicted alive:\", dt_failed_error)"
      ],
      "metadata": {
        "colab": {
          "base_uri": "https://localhost:8080/"
        },
        "id": "uyiRBGdeSOPZ",
        "outputId": "aeb3aecb-feb2-4dec-a44e-fed0e5a7cad0"
      },
      "execution_count": null,
      "outputs": [
        {
          "output_type": "stream",
          "name": "stdout",
          "text": [
            "Wrong Predictions: 26\n",
            "Alive, but predicted dead: 10\n",
            "Dead, but predicted alive: 16\n"
          ]
        }
      ]
    },
    {
      "cell_type": "markdown",
      "source": [
        "## **Random Forest**"
      ],
      "metadata": {
        "id": "BmjccwHoFpQF"
      }
    },
    {
      "cell_type": "code",
      "source": [
        "rf = RandomForestClassifier()\n",
        "\n",
        "# Fit the classifier\n",
        "rf.fit(X_train_70_scaled, y_train_70)\n",
        "\n",
        "rf_y_pred = rf.predict(X_test_30_scaled)\n",
        "\n",
        "rf_accuracy = round(rf.score(X_test_30_scaled, y_test_30), 4)\n",
        "rf_f1_score = round(f1_score(y_test_30, rf_y_pred), 4)\n",
        "\n",
        "# Print the accuracy score of the model\n",
        "print(\"Accuracy of logistic regression classifier using 70% training data: \", rf_accuracy)\n",
        "\n",
        "# Print the F1 score\n",
        "print(\"F1 score for 70% training data\", rf_f1_score, \"\\n\")\n",
        "\n",
        "plot_confusion_matrix(rf, X_test_30_scaled, y_test_30) \n",
        "plt.title(\"Random Forest Confusion Matrix\")   \n",
        "plt.xticks(range(2), [\"Heart Not Failed\",\"Heart Failed\"], fontsize=12)\n",
        "plt.yticks(range(2), [\"Heart Not Failed\",\"Heart Failed\"], fontsize=12)\n",
        "plt.show()"
      ],
      "metadata": {
        "colab": {
          "base_uri": "https://localhost:8080/",
          "height": 345
        },
        "id": "lRjbku8dGc-j",
        "outputId": "84153f9a-68af-4843-fff1-ab6466c3c6ce"
      },
      "execution_count": null,
      "outputs": [
        {
          "output_type": "stream",
          "name": "stdout",
          "text": [
            "Accuracy of logistic regression classifier using 70% training data:  0.7778\n",
            "F1 score for 70% training data 0.697 \n",
            "\n"
          ]
        },
        {
          "output_type": "display_data",
          "data": {
            "image/png": "[encoded data removed]",
            "text/plain": [
              "<Figure size 432x288 with 2 Axes>"
            ]
          },
          "metadata": {
            "needs_background": "light"
          }
        }
      ]
    },
    {
      "cell_type": "code",
      "source": [
        "rf_y_test = np.array(y_test_30)\n",
        "rf_result_compare = np.concatenate((rf_y_test.reshape(len(y_test_30), 1), rf_y_pred.reshape(len(rf_y_pred), 1)), 1)\n",
        "print(\"Outcome,\", \"Prediction\")\n",
        "print(rf_result_compare)"
      ],
      "metadata": {
        "colab": {
          "base_uri": "https://localhost:8080/"
        },
        "id": "Hu-5BCFER78q",
        "outputId": "55354eb7-c58a-4ec0-ed3d-de1b90972b99"
      },
      "execution_count": null,
      "outputs": [
        {
          "output_type": "stream",
          "name": "stdout",
          "text": [
            "Outcome, Prediction\n",
            "[[0 0]\n",
            " [0 0]\n",
            " [1 0]\n",
            " [1 1]\n",
            " [0 0]\n",
            " [0 0]\n",
            " [1 0]\n",
            " [0 0]\n",
            " [1 1]\n",
            " [0 0]\n",
            " [0 0]\n",
            " [1 0]\n",
            " [1 0]\n",
            " [0 0]\n",
            " [0 1]\n",
            " [1 1]\n",
            " [0 0]\n",
            " [0 0]\n",
            " [1 0]\n",
            " [1 0]\n",
            " [0 0]\n",
            " [0 0]\n",
            " [0 1]\n",
            " [1 1]\n",
            " [1 1]\n",
            " [0 0]\n",
            " [0 0]\n",
            " [0 0]\n",
            " [1 0]\n",
            " [0 0]\n",
            " [1 1]\n",
            " [0 0]\n",
            " [0 1]\n",
            " [1 1]\n",
            " [1 1]\n",
            " [1 1]\n",
            " [1 0]\n",
            " [1 0]\n",
            " [0 0]\n",
            " [0 0]\n",
            " [1 0]\n",
            " [1 1]\n",
            " [0 0]\n",
            " [0 0]\n",
            " [0 1]\n",
            " [0 0]\n",
            " [0 0]\n",
            " [0 0]\n",
            " [0 0]\n",
            " [0 0]\n",
            " [1 1]\n",
            " [1 0]\n",
            " [1 0]\n",
            " [0 0]\n",
            " [0 0]\n",
            " [0 0]\n",
            " [0 0]\n",
            " [1 1]\n",
            " [0 0]\n",
            " [1 1]\n",
            " [1 1]\n",
            " [1 1]\n",
            " [1 0]\n",
            " [0 0]\n",
            " [1 1]\n",
            " [1 1]\n",
            " [0 0]\n",
            " [0 1]\n",
            " [0 0]\n",
            " [0 0]\n",
            " [1 1]\n",
            " [0 0]\n",
            " [0 0]\n",
            " [0 0]\n",
            " [0 1]\n",
            " [0 0]\n",
            " [0 0]\n",
            " [1 1]\n",
            " [0 0]\n",
            " [0 0]\n",
            " [1 0]\n",
            " [1 1]\n",
            " [0 0]\n",
            " [0 0]\n",
            " [0 0]\n",
            " [0 0]\n",
            " [1 1]\n",
            " [1 1]\n",
            " [1 1]\n",
            " [0 0]]\n"
          ]
        }
      ]
    },
    {
      "cell_type": "code",
      "source": [
        "rf_prediction_error_list = []\n",
        "rf_failed_error_list = []\n",
        "rf_not_failed_error_list = []\n",
        "\n",
        "for pair in rf_result_compare: \n",
        "\n",
        "  if pair[0] != pair[1]:\n",
        "    rf_prediction_error_list.append(pair)\n",
        "\n",
        "for error in rf_prediction_error_list:\n",
        "\n",
        "  if error[0] == 0:\n",
        "    rf_not_failed_error_list.append(error[0])\n",
        "\n",
        "  else:\n",
        "    dt_failed_error_list.append(error[0])\n",
        "\n",
        "rf_prediction_error = len(rf_prediction_error_list)\n",
        "rf_failed_error = len(rf_failed_error_list)\n",
        "rf_not_failed_error = len(rf_not_failed_error_list)\n",
        "\n",
        "print(\"Wrong Predictions:\", rf_prediction_error)\n",
        "print(\"Alive, but predicted dead:\", rf_not_failed_error)\n",
        "print(\"Dead, but predicted alive:\", rf_failed_error)"
      ],
      "metadata": {
        "colab": {
          "base_uri": "https://localhost:8080/"
        },
        "id": "qgYmpim_VI6A",
        "outputId": "249583a0-9b33-45ad-a5bf-3ac02129b1ee"
      },
      "execution_count": null,
      "outputs": [
        {
          "output_type": "stream",
          "name": "stdout",
          "text": [
            "Wrong Predictions: 20\n",
            "Alive, but predicted dead: 6\n",
            "Dead, but predicted alive: 0\n"
          ]
        }
      ]
    },
    {
      "cell_type": "markdown",
      "source": [
        "## **Summary of Accuracy and F1 Score**"
      ],
      "metadata": {
        "id": "wMg6CJcqLa4T"
      }
    },
    {
      "cell_type": "code",
      "source": [
        "decimal_accuracy_list = [logreg_accuracy, dt_accuracy, rf_accuracy]\n",
        "decimal_f1_score_list = [logreg_f1_score, dt_f1_score, rf_f1_score]\n",
        "\n",
        "percentage_accuracy_list = np.array(decimal_accuracy_list) * 100\n",
        "percentage_f1_score_list = [np.round(f1_score, 4) for f1_score in np.array(decimal_f1_score_list) * 100]\n",
        "\n",
        "models = [\"Logisitic Regression\", \"Decision Tree\", \"Random Forest\"]"
      ],
      "metadata": {
        "id": "vti83ulHLZ_U"
      },
      "execution_count": null,
      "outputs": []
    },
    {
      "cell_type": "code",
      "source": [
        "plt.figure(figsize = (12,4))\n",
        "\n",
        "ax = sns.barplot(x = models, y = percentage_accuracy_list)\n",
        "plt.title(\"Accuracy of Different Models\", fontsize = 14)\n",
        "plt.xlabel(\"Model\", fontsize = 14)\n",
        "plt.ylabel(\"Accuracy (%)\", fontsize = 14)\n",
        "\n",
        "for p in ax.patches:\n",
        "    width = p.get_width()\n",
        "    height = p.get_height()\n",
        "    x = p.get_x()\n",
        "    y = p.get_y()\n",
        "    ax.annotate(f\"{height} %\", (x + width/2, y + height*1.01), ha=\"center\")\n",
        "\n",
        "plt.show()"
      ],
      "metadata": {
        "colab": {
          "base_uri": "https://localhost:8080/",
          "height": 298
        },
        "id": "mVjx_tLNNXYv",
        "outputId": "abb84bbd-a650-49ce-ba2d-fdca5eaf2926"
      },
      "execution_count": null,
      "outputs": [
        {
          "output_type": "display_data",
          "data": {
            "image/png": "[encoded data removed]",
            "text/plain": [
              "<Figure size 864x288 with 1 Axes>"
            ]
          },
          "metadata": {
            "needs_background": "light"
          }
        }
      ]
    },
    {
      "cell_type": "code",
      "source": [
        "plt.figure(figsize = (12,4))\n",
        "\n",
        "ax = sns.barplot(x = models, y = percentage_f1_score_list)\n",
        "plt.title(\"F1 Score of Different Models\", fontsize = 14)\n",
        "plt.xlabel(\"Model\", fontsize = 14)\n",
        "plt.ylabel(\"Accuracy (%)\", fontsize = 14)\n",
        "\n",
        "for p in ax.patches:\n",
        "    width = p.get_width()\n",
        "    height = p.get_height()\n",
        "    x = p.get_x()\n",
        "    y = p.get_y()\n",
        "    ax.annotate(f\"{height} %\", (x + width/2, y + height*1.01), ha=\"center\")\n",
        "\n",
        "plt.show()"
      ],
      "metadata": {
        "colab": {
          "base_uri": "https://localhost:8080/",
          "height": 298
        },
        "id": "FjviHSi1PXiz",
        "outputId": "e58cb11b-d2a5-4a4d-dde4-fa530d98660e"
      },
      "execution_count": null,
      "outputs": [
        {
          "output_type": "display_data",
          "data": {
            "image/png": "[encoded data removed]",
            "text/plain": [
              "<Figure size 864x288 with 1 Axes>"
            ]
          },
          "metadata": {
            "needs_background": "light"
          }
        }
      ]
    },
    {
      "cell_type": "markdown",
      "source": [
        "## **Summary of Wrong Predictions**"
      ],
      "metadata": {
        "id": "FAeeE2ZTWfc_"
      }
    },
    {
      "cell_type": "code",
      "source": [
        "prediction_error_list = [logreg_prediction_error, dt_prediction_error, rf_prediction_error]\n",
        "failed_error_list = [logreg_failed_error, dt_failed_error, rf_failed_error]\n",
        "not_failed_error_list = [logreg_not_failed_error, dt_not_failed_error, rf_not_failed_error]"
      ],
      "metadata": {
        "id": "B_IgldByWe41"
      },
      "execution_count": 266,
      "outputs": []
    },
    {
      "cell_type": "code",
      "source": [
        "plt.figure(figsize = (12,4))\n",
        "\n",
        "ax = sns.barplot(x = models, y = prediction_error_list)\n",
        "plt.title(\"Prediction Error of Different Models\", fontsize = 14)\n",
        "plt.xlabel(\"Model\", fontsize = 14)\n",
        "plt.ylabel(\"Prediction Error\", fontsize = 14)\n",
        "\n",
        "for p in ax.patches:\n",
        "    width = p.get_width()\n",
        "    height = p.get_height()\n",
        "    x = p.get_x()\n",
        "    y = p.get_y()\n",
        "    ax.annotate(f\"{height}\", (x + width/2, y + height*1.01), ha=\"center\")\n",
        "\n",
        "plt.show()"
      ],
      "metadata": {
        "colab": {
          "base_uri": "https://localhost:8080/",
          "height": 298
        },
        "id": "Nkn5H4Eudxdn",
        "outputId": "8ecdee20-e003-4ce0-bf14-027374c25a9e"
      },
      "execution_count": 262,
      "outputs": [
        {
          "output_type": "display_data",
          "data": {
            "image/png": "[encoded data removed]",
            "text/plain": [
              "<Figure size 864x288 with 1 Axes>"
            ]
          },
          "metadata": {
            "needs_background": "light"
          }
        }
      ]
    },
    {
      "cell_type": "code",
      "source": [
        "plt.figure(figsize = (12,4))\n",
        "\n",
        "ax = sns.barplot(x = models, y = not_failed_error_list)\n",
        "plt.title(\"Alive, but Predicted Dead by Different Models\", fontsize = 14)\n",
        "plt.xlabel(\"Model\", fontsize = 14)\n",
        "plt.ylabel(\"Prediction Error\", fontsize = 14)\n",
        "\n",
        "for p in ax.patches:\n",
        "    width = p.get_width()\n",
        "    height = p.get_height()\n",
        "    x = p.get_x()\n",
        "    y = p.get_y()\n",
        "    ax.annotate(f\"{height}\", (x + width/2, y + height*1.01), ha=\"center\")\n",
        "\n",
        "plt.show()"
      ],
      "metadata": {
        "id": "SZpbcZFgdxso",
        "colab": {
          "base_uri": "https://localhost:8080/",
          "height": 298
        },
        "outputId": "e7724a5b-d620-406d-935e-88d5246a582a"
      },
      "execution_count": 270,
      "outputs": [
        {
          "output_type": "display_data",
          "data": {
            "image/png": "[encoded data removed]",
            "text/plain": [
              "<Figure size 864x288 with 1 Axes>"
            ]
          },
          "metadata": {
            "needs_background": "light"
          }
        }
      ]
    },
    {
      "cell_type": "code",
      "source": [
        "plt.figure(figsize = (12,4))\n",
        "\n",
        "ax = sns.barplot(x = models, y = failed_error_list)\n",
        "plt.title(\"Dead, but Predicted Alive by Different Models\", fontsize = 14)\n",
        "plt.xlabel(\"Model\", fontsize = 14)\n",
        "plt.ylabel(\"Prediction Error\", fontsize = 14)\n",
        "\n",
        "for p in ax.patches:\n",
        "    width = p.get_width()\n",
        "    height = p.get_height()\n",
        "    x = p.get_x()\n",
        "    y = p.get_y()\n",
        "    ax.annotate(f\"{height}\", (x + width/2, y + height*1.01), ha=\"center\")\n",
        "\n",
        "plt.show()"
      ],
      "metadata": {
        "id": "_uA6WtuBdx-U",
        "colab": {
          "base_uri": "https://localhost:8080/",
          "height": 298
        },
        "outputId": "452bc51a-037e-4a62-f508-6f10a20da483"
      },
      "execution_count": 269,
      "outputs": [
        {
          "output_type": "display_data",
          "data": {
            "image/png": "[encoded data removed]",
            "text/plain": [
              "<Figure size 864x288 with 1 Axes>"
            ]
          },
          "metadata": {
            "needs_background": "light"
          }
        }
      ]
    }
  ]
}