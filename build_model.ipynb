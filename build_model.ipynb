{
  "nbformat": 4,
  "nbformat_minor": 0,
  "metadata": {
    "colab": {
      "name": "build_model.ipynb",
      "provenance": [],
      "collapsed_sections": []
    },
    "kernelspec": {
      "name": "python3",
      "display_name": "Python 3"
    },
    "language_info": {
      "name": "python"
    }
  },
  "cells": [
    {
      "cell_type": "markdown",
      "source": [
        "## **Import**"
      ],
      "metadata": {
        "id": "M_dJI4BKiK9K"
      }
    },
    {
      "cell_type": "code",
      "metadata": {
        "id": "W8pxNjbXgxuo"
      },
      "source": [
        "import pandas as pd\n",
        "import numpy as np\n",
        "import seaborn as sns\n",
        "\n",
        "import matplotlib.pyplot as plt\n",
        "from sklearn.metrics import plot_confusion_matrix\n",
        "\n",
        "from sklearn.preprocessing import StandardScaler\n",
        "from sklearn.model_selection import train_test_split\n",
        "\n",
        "from sklearn.linear_model import LogisticRegression\n",
        "from sklearn.tree import DecisionTreeClassifier\n",
        "from sklearn.ensemble import RandomForestClassifier\n",
        "from sklearn.ensemble import ExtraTreesClassifier\n",
        "\n",
        "from sklearn.metrics import classification_report\n",
        "from sklearn.metrics import precision_score\n",
        "from sklearn.metrics import recall_score\n",
        "from sklearn.metrics import f1_score\n",
        "\n",
        "from sklearn.feature_selection import SelectKBest\n",
        "from sklearn.feature_selection import chi2"
      ],
      "execution_count": 98,
      "outputs": []
    },
    {
      "cell_type": "code",
      "source": [
        "# Ignore the warning for using plot confusion matrix\n",
        "import warnings\n",
        "warnings.filterwarnings(\"ignore\")"
      ],
      "metadata": {
        "id": "xY5aMtxRLFIX"
      },
      "execution_count": 10,
      "outputs": []
    },
    {
      "cell_type": "markdown",
      "source": [
        "## **Feature Selection**"
      ],
      "metadata": {
        "id": "fLlrrWLpiHXw"
      }
    },
    {
      "cell_type": "code",
      "metadata": {
        "id": "Ys-b6sk_hTAP",
        "colab": {
          "base_uri": "https://localhost:8080/"
        },
        "outputId": "1cfc68db-5334-4a9b-c426-5177bbec24c6"
      },
      "source": [
        "df = pd.read_csv(\"cleaned.csv\")\n",
        "\n",
        "# Drop unnecessary features\n",
        "df = df.drop(['anaemia', 'creatinine_phosphokinase', 'diabetes', 'high_blood_pressure', 'platelets', 'sex', 'smoking'], axis=1)\n",
        "\n",
        "# Feature variable\n",
        "X = df.drop('DEATH_EVENT', axis=1)\n",
        "\n",
        "# Target Variable\n",
        "y = df['DEATH_EVENT']\n",
        "\n",
        "print(f'Shape of X: {X.shape} and Y: {y.shape}')"
      ],
      "execution_count": 17,
      "outputs": [
        {
          "output_type": "stream",
          "name": "stdout",
          "text": [
            "Shape of X: (299, 5) and Y: (299,)\n"
          ]
        }
      ]
    },
    {
      "cell_type": "markdown",
      "source": [
        "## **Split Training/Testing Datasets with Stratification**"
      ],
      "metadata": {
        "id": "qIYJyLasifLH"
      }
    },
    {
      "cell_type": "code",
      "metadata": {
        "id": "b_iUH9JshZAL",
        "colab": {
          "base_uri": "https://localhost:8080/"
        },
        "outputId": "1771b8e2-537a-4cc6-cfb7-f0b5df6cb1ca"
      },
      "source": [
        "# 70% Training and 30% testing sets\n",
        "X_train_70, X_test_30, y_train_70, y_test_30 = train_test_split(X,\n",
        "                                y,\n",
        "                                test_size=0.3,\n",
        "                                random_state=42,\n",
        "                                stratify=y)\n",
        "\n",
        "print('Training Data')\n",
        "print(f'Shape of X_train: {X_train_70.shape} and Y_train: {y_train_70.shape}')\n",
        "print('Testing Data')\n",
        "print(f'Shape of X_test: {X_test_30.shape} and Y_test: {y_test_30.shape}')"
      ],
      "execution_count": 16,
      "outputs": [
        {
          "output_type": "stream",
          "name": "stdout",
          "text": [
            "Training Data\n",
            "Shape of X_train: (209, 5) and Y_train: (209,)\n",
            "Testing Data\n",
            "Shape of X_test: (90, 5) and Y_test: (90,)\n"
          ]
        }
      ]
    },
    {
      "cell_type": "code",
      "source": [
        "# 80% Training and 20% testing sets\n",
        "X_train_80, X_test_20, y_train_80, y_test_20 = train_test_split(X,\n",
        "                                y,\n",
        "                                test_size=0.2,\n",
        "                                random_state=42)\n",
        "\n",
        "print('Training Data')\n",
        "print(f'Shape of X_train: {X_train_80.shape} and Y_train: {y_train_80.shape}')\n",
        "print('Testing Data')\n",
        "print(f'Shape of X_test: {X_test_20.shape} and Y_test: {y_test_20.shape}')"
      ],
      "metadata": {
        "id": "CDTyFoTKBNMG",
        "colab": {
          "base_uri": "https://localhost:8080/"
        },
        "outputId": "3f025d05-8f67-406b-e885-a92c811bcfec"
      },
      "execution_count": 18,
      "outputs": [
        {
          "output_type": "stream",
          "name": "stdout",
          "text": [
            "Training Data\n",
            "Shape of X_train: (239, 5) and Y_train: (239,)\n",
            "Testing Data\n",
            "Shape of X_test: (60, 5) and Y_test: (60,)\n"
          ]
        }
      ]
    },
    {
      "cell_type": "code",
      "source": [
        "# 90% Training and 10% testing sets\n",
        "X_train_90, X_test_10, y_train_90, y_test_10 = train_test_split(X,\n",
        "                                y,\n",
        "                                test_size=0.1,\n",
        "                                random_state=42)\n",
        "\n",
        "print('Training Data')\n",
        "print(f'Shape of X_train: {X_train_90.shape} and Y_train: {y_train_90.shape}')\n",
        "print('Testing Data')\n",
        "print(f'Shape of X_test: {X_test_10.shape} and Y_test: {y_test_10.shape}')"
      ],
      "metadata": {
        "id": "O1kcwqZlBSKk",
        "colab": {
          "base_uri": "https://localhost:8080/"
        },
        "outputId": "65298fbf-2a0e-424a-f6b4-5fd71b5a0b47"
      },
      "execution_count": 19,
      "outputs": [
        {
          "output_type": "stream",
          "name": "stdout",
          "text": [
            "Training Data\n",
            "Shape of X_train: (269, 5) and Y_train: (269,)\n",
            "Testing Data\n",
            "Shape of X_test: (30, 5) and Y_test: (30,)\n"
          ]
        }
      ]
    },
    {
      "cell_type": "markdown",
      "source": [
        "## **Standardization of Features**"
      ],
      "metadata": {
        "id": "cTIAYpbminFc"
      }
    },
    {
      "cell_type": "code",
      "source": [
        "scaler = StandardScaler()\n",
        "\n",
        "X_train_70_scaled = scaler.fit_transform(X_train_70)\n",
        "X_test_30_scaled = scaler.transform(X_test_30)\n",
        "\n",
        "X_train_80_scaled = scaler.fit_transform(X_train_80)\n",
        "X_test_20_scaled = scaler.transform(X_test_20)\n",
        "\n",
        "X_train_90_scaled = scaler.fit_transform(X_train_90)\n",
        "X_test_10_scaled = scaler.transform(X_test_10)"
      ],
      "metadata": {
        "id": "gbN-Wyk1J_p4"
      },
      "execution_count": 20,
      "outputs": []
    },
    {
      "cell_type": "markdown",
      "source": [
        "## **Logistic Regression**"
      ],
      "metadata": {
        "id": "PgmuQfxRFM1N"
      }
    },
    {
      "cell_type": "code",
      "source": [
        "# Instantiate the classifier\n",
        "logreg = LogisticRegression()\n",
        "\n",
        "# Fit the classifier\n",
        "logreg.fit(X_train_70_scaled, y_train_70)\n",
        "\n",
        "# Predict instances from the test set\n",
        "logreg_y_pred = logreg.predict(X_test_30_scaled)\n",
        "\n",
        "logreg_accuracy = round(logreg.score(X_test_30_scaled, y_test_30)*100, 4)\n",
        "logreg_f1_score = round(f1_score(y_test_30, logreg_y_pred)*100, 4)\n",
        "\n",
        "# Print the accuracy score of the model\n",
        "print(\"Accuracy of logistic regression classifier using 70% training data: \", logreg_accuracy)\n",
        "\n",
        "# Print the F1 score\n",
        "print(\"F1 score for 70% training data\", logreg_f1_score, \"\\n\")\n",
        "\n",
        "print(classification_report(y_test_30.values, logreg_y_pred), \"\\n\")\n",
        "\n",
        "plot_confusion_matrix(logreg, X_test_30_scaled, y_test_30, cmap=plt.cm.Blues)\n",
        "plt.title(\"Logisitic Regression Confusion Matrix\")\n",
        "plt.xticks(range(2), [\"Heart Not Failed\",\"Heart Failed\"], fontsize=12)\n",
        "plt.yticks(range(2), [\"Heart Not Failed\",\"Heart Failed\"], fontsize=12)\n",
        "plt.show()"
      ],
      "metadata": {
        "colab": {
          "base_uri": "https://localhost:8080/",
          "height": 510
        },
        "id": "9a2i091O5VqD",
        "outputId": "fdad8c71-3545-4103-8889-33aac348b426"
      },
      "execution_count": 87,
      "outputs": [
        {
          "output_type": "stream",
          "name": "stdout",
          "text": [
            "Accuracy of logistic regression classifier using 70% training data:  83.3333\n",
            "F1 score for 70% training data 71.6981 \n",
            "\n",
            "              precision    recall  f1-score   support\n",
            "\n",
            "           0       0.85      0.92      0.88        61\n",
            "           1       0.79      0.66      0.72        29\n",
            "\n",
            "    accuracy                           0.83        90\n",
            "   macro avg       0.82      0.79      0.80        90\n",
            "weighted avg       0.83      0.83      0.83        90\n",
            " \n",
            "\n"
          ]
        },
        {
          "output_type": "display_data",
          "data": {
            "image/png": "[encoded data removed]",
            "text/plain": [
              "<Figure size 432x288 with 2 Axes>"
            ]
          },
          "metadata": {
            "needs_background": "light"
          }
        }
      ]
    },
    {
      "cell_type": "code",
      "source": [
        "logreg_y_test = np.array(y_test_30)\n",
        "logreg_result_compare = np.concatenate((logreg_y_test.reshape(len(y_test_30), 1), logreg_y_pred.reshape(len(logreg_y_pred), 1)), 1)\n",
        "print(\"Outcome,\", \"Prediction\")\n",
        "print(logreg_result_compare)"
      ],
      "metadata": {
        "colab": {
          "base_uri": "https://localhost:8080/"
        },
        "id": "mD8w20xYR_gg",
        "outputId": "fe73992f-d390-45e3-b599-2dc0464647a0"
      },
      "execution_count": 88,
      "outputs": [
        {
          "output_type": "stream",
          "name": "stdout",
          "text": [
            "Outcome, Prediction\n",
            "[[0 0]\n",
            " [0 0]\n",
            " [1 1]\n",
            " [0 0]\n",
            " [0 0]\n",
            " [0 0]\n",
            " [0 0]\n",
            " [0 0]\n",
            " [0 0]\n",
            " [0 0]\n",
            " [0 0]\n",
            " [0 0]\n",
            " [1 1]\n",
            " [1 0]\n",
            " [1 1]\n",
            " [0 0]\n",
            " [0 0]\n",
            " [0 0]\n",
            " [0 0]\n",
            " [1 1]\n",
            " [0 0]\n",
            " [1 1]\n",
            " [0 1]\n",
            " [1 1]\n",
            " [0 0]\n",
            " [1 1]\n",
            " [0 0]\n",
            " [0 0]\n",
            " [0 0]\n",
            " [0 0]\n",
            " [0 0]\n",
            " [0 0]\n",
            " [1 0]\n",
            " [0 1]\n",
            " [0 0]\n",
            " [0 0]\n",
            " [0 0]\n",
            " [0 0]\n",
            " [0 0]\n",
            " [0 0]\n",
            " [1 1]\n",
            " [1 0]\n",
            " [0 0]\n",
            " [1 0]\n",
            " [0 0]\n",
            " [0 0]\n",
            " [0 1]\n",
            " [0 0]\n",
            " [0 1]\n",
            " [0 0]\n",
            " [1 1]\n",
            " [0 0]\n",
            " [0 0]\n",
            " [0 0]\n",
            " [1 1]\n",
            " [0 0]\n",
            " [0 0]\n",
            " [1 1]\n",
            " [0 0]\n",
            " [1 0]\n",
            " [1 0]\n",
            " [1 0]\n",
            " [0 1]\n",
            " [0 0]\n",
            " [1 1]\n",
            " [1 0]\n",
            " [0 0]\n",
            " [0 0]\n",
            " [1 1]\n",
            " [0 0]\n",
            " [0 0]\n",
            " [0 0]\n",
            " [0 0]\n",
            " [1 1]\n",
            " [0 0]\n",
            " [1 1]\n",
            " [1 1]\n",
            " [0 0]\n",
            " [1 0]\n",
            " [0 0]\n",
            " [1 1]\n",
            " [0 0]\n",
            " [1 0]\n",
            " [0 0]\n",
            " [0 0]\n",
            " [0 0]\n",
            " [1 1]\n",
            " [0 0]\n",
            " [1 1]\n",
            " [0 0]]\n"
          ]
        }
      ]
    },
    {
      "cell_type": "code",
      "source": [
        "logreg_prediction_error_list = []\n",
        "logreg_failed_error_list = []\n",
        "logreg_not_failed_error_list = []\n",
        "\n",
        "for pair in logreg_result_compare: \n",
        "\n",
        "  if pair[0] != pair[1]:\n",
        "    logreg_prediction_error_list.append(pair)\n",
        "\n",
        "for error in logreg_prediction_error_list:\n",
        "\n",
        "  if error[0] == 0:\n",
        "    logreg_not_failed_error_list.append(error[0])\n",
        "\n",
        "  else:\n",
        "    logreg_failed_error_list.append(error[0])\n",
        "\n",
        "logreg_prediction_error = len(logreg_prediction_error_list)\n",
        "logreg_failed_error = len(logreg_failed_error_list)\n",
        "logreg_not_failed_error = len(logreg_not_failed_error_list)\n",
        "\n",
        "print(\"Wrong Predictions:\", logreg_prediction_error)\n",
        "print(\"Alive, but predicted dead:\", logreg_not_failed_error)\n",
        "print(\"Dead, but predicted alive:\", logreg_failed_error)"
      ],
      "metadata": {
        "colab": {
          "base_uri": "https://localhost:8080/"
        },
        "id": "RIm1aEuSTCuF",
        "outputId": "eda1ad10-fe8a-4c3e-a090-faa027b6ac7f"
      },
      "execution_count": 89,
      "outputs": [
        {
          "output_type": "stream",
          "name": "stdout",
          "text": [
            "Wrong Predictions: 15\n",
            "Alive, but predicted dead: 5\n",
            "Dead, but predicted alive: 10\n"
          ]
        }
      ]
    },
    {
      "cell_type": "code",
      "source": [
        "# Fit the classifier\n",
        "logreg.fit(X_train_80_scaled, y_train_80)\n",
        "\n",
        "# Predict instances from the test set\n",
        "logreg_y_pred = logreg.predict(X_test_20_scaled)\n",
        "\n",
        "logreg_accuracy = round(logreg.score(X_test_20_scaled, y_test_20)*100, 4)\n",
        "logreg_f1_score = round(f1_score(y_test_20, logreg_y_pred)*100, 4)\n",
        "\n",
        "# Print the accuracy score of the model\n",
        "print(\"Accuracy of logistic regression classifier using 80% training data: \", logreg_accuracy)\n",
        "\n",
        "# Print the F1 score\n",
        "print(\"F1 score for 80% training data\", logreg_f1_score, \"\\n\")\n",
        "\n",
        "print(classification_report(y_test_20.values, logreg_y_pred), \"\\n\")\n",
        "\n",
        "plot_confusion_matrix(logreg, X_test_20_scaled, y_test_20, cmap=plt.cm.Blues)\n",
        "plt.title(\"Logisitic Regression Confusion Matrix\")  \n",
        "plt.xticks(range(2), [\"Heart Not Failed\",\"Heart Failed\"], fontsize=12)\n",
        "plt.yticks(range(2), [\"Heart Not Failed\",\"Heart Failed\"], fontsize=12)\n",
        "plt.show()"
      ],
      "metadata": {
        "colab": {
          "base_uri": "https://localhost:8080/",
          "height": 510
        },
        "id": "lyWNYciZ5WLR",
        "outputId": "3e00c28d-7573-467a-e63f-a14e4dc6384e"
      },
      "execution_count": 32,
      "outputs": [
        {
          "output_type": "stream",
          "name": "stdout",
          "text": [
            "Accuracy of logistic regression classifier using 80% training data:  78.3333\n",
            "F1 score for 80% training data 66.6667 \n",
            "\n",
            "              precision    recall  f1-score   support\n",
            "\n",
            "           0       0.74      0.97      0.84        35\n",
            "           1       0.93      0.52      0.67        25\n",
            "\n",
            "    accuracy                           0.78        60\n",
            "   macro avg       0.83      0.75      0.75        60\n",
            "weighted avg       0.82      0.78      0.77        60\n",
            " \n",
            "\n"
          ]
        },
        {
          "output_type": "display_data",
          "data": {
            "image/png": "[encoded data removed]",
            "text/plain": [
              "<Figure size 432x288 with 2 Axes>"
            ]
          },
          "metadata": {
            "needs_background": "light"
          }
        }
      ]
    },
    {
      "cell_type": "code",
      "source": [
        "# Fit the classifier\n",
        "logreg.fit(X_train_90_scaled, y_train_90)\n",
        "\n",
        "# Predict instances from the test set\n",
        "logreg_y_pred = logreg.predict(X_test_10_scaled)\n",
        "\n",
        "logreg_accuracy = round(logreg.score(X_test_10_scaled, y_test_10)*100, 4)\n",
        "logreg_f1_score = round(f1_score(y_test_10, logreg_y_pred)*100, 4)\n",
        "\n",
        "# Print the accuracy score of the model\n",
        "print(\"Accuracy of logistic regression classifier using 90% training data: \", logreg_accuracy)\n",
        "\n",
        "# Print the F1 score\n",
        "print(\"F1 score for 90% training data\", logreg_f1_score, \"\\n\")\n",
        "\n",
        "print(classification_report(y_test_10.values, logreg_y_pred), \"\\n\")\n",
        "\n",
        "plot_confusion_matrix(logreg, X_test_10_scaled, y_test_10, cmap=plt.cm.Blues)\n",
        "plt.title(\"Logisitic Regression Confusion Matrix\") \n",
        "plt.xticks(range(2), [\"Heart Not Failed\",\"Heart Failed\"], fontsize=12)\n",
        "plt.yticks(range(2), [\"Heart Not Failed\",\"Heart Failed\"], fontsize=12)\n",
        "plt.show()"
      ],
      "metadata": {
        "colab": {
          "base_uri": "https://localhost:8080/",
          "height": 510
        },
        "id": "SoWyVio8EyDI",
        "outputId": "3bf1ac57-b849-4346-9821-727edc7eabeb"
      },
      "execution_count": 33,
      "outputs": [
        {
          "output_type": "stream",
          "name": "stdout",
          "text": [
            "Accuracy of logistic regression classifier using 90% training data:  76.6667\n",
            "F1 score for 90% training data 58.8235 \n",
            "\n",
            "              precision    recall  f1-score   support\n",
            "\n",
            "           0       0.72      1.00      0.84        18\n",
            "           1       1.00      0.42      0.59        12\n",
            "\n",
            "    accuracy                           0.77        30\n",
            "   macro avg       0.86      0.71      0.71        30\n",
            "weighted avg       0.83      0.77      0.74        30\n",
            " \n",
            "\n"
          ]
        },
        {
          "output_type": "display_data",
          "data": {
            "image/png": "[encoded data removed]",
            "text/plain": [
              "<Figure size 432x288 with 2 Axes>"
            ]
          },
          "metadata": {
            "needs_background": "light"
          }
        }
      ]
    },
    {
      "cell_type": "markdown",
      "source": [
        "## **Decision Tree**"
      ],
      "metadata": {
        "id": "s7Qeeo5HFWpv"
      }
    },
    {
      "cell_type": "code",
      "metadata": {
        "colab": {
          "base_uri": "https://localhost:8080/",
          "height": 510
        },
        "id": "bDkiqAFNheCM",
        "outputId": "ed203d35-c9c5-49e0-f748-5cbee87f29a6"
      },
      "source": [
        "dt = DecisionTreeClassifier()\n",
        "\n",
        "# Fit the classifier\n",
        "dt.fit(X_train_70_scaled, y_train_70)\n",
        "\n",
        "dt_y_pred = dt.predict(X_test_30_scaled)\n",
        "\n",
        "dt_accuracy = round(dt.score(X_test_30_scaled, y_test_30)*100, 4)\n",
        "dt_f1_score = round(f1_score(y_test_30, dt_y_pred)*100, 4)\n",
        "\n",
        "# Print the accuracy score of the model\n",
        "print(\"Accuracy of logistic regression classifier using 70% training data: \", dt_accuracy)\n",
        "\n",
        "# Print the F1 score\n",
        "print(\"F1 score for 70% training data\", dt_f1_score, \"\\n\")\n",
        "\n",
        "print(classification_report(y_test_30.values, dt_y_pred), \"\\n\")\n",
        "\n",
        "plot_confusion_matrix(dt, X_test_30_scaled, y_test_30, cmap=plt.cm.Blues)  \n",
        "plt.title(\"Decision Tree Confusion Matrix\")  \n",
        "plt.xticks(range(2), [\"Heart Not Failed\",\"Heart Failed\"], fontsize=12)\n",
        "plt.yticks(range(2), [\"Heart Not Failed\",\"Heart Failed\"], fontsize=12)\n",
        "plt.show()"
      ],
      "execution_count": 46,
      "outputs": [
        {
          "output_type": "stream",
          "name": "stdout",
          "text": [
            "Accuracy of logistic regression classifier using 70% training data:  78.8889\n",
            "F1 score for 70% training data 65.4545 \n",
            "\n",
            "              precision    recall  f1-score   support\n",
            "\n",
            "           0       0.83      0.87      0.85        61\n",
            "           1       0.69      0.62      0.65        29\n",
            "\n",
            "    accuracy                           0.79        90\n",
            "   macro avg       0.76      0.74      0.75        90\n",
            "weighted avg       0.78      0.79      0.79        90\n",
            " \n",
            "\n"
          ]
        },
        {
          "output_type": "display_data",
          "data": {
            "image/png": "[encoded data removed]",
            "text/plain": [
              "<Figure size 432x288 with 2 Axes>"
            ]
          },
          "metadata": {
            "needs_background": "light"
          }
        }
      ]
    },
    {
      "cell_type": "code",
      "source": [
        "dt_y_test = np.array(y_test_30)\n",
        "dt_result_compare = np.concatenate((dt_y_test.reshape(len(y_test_30), 1), dt_y_pred.reshape(len(dt_y_pred), 1)), 1)\n",
        "print(\"Outcome,\", \"Prediction\")\n",
        "print(dt_result_compare)"
      ],
      "metadata": {
        "colab": {
          "base_uri": "https://localhost:8080/"
        },
        "id": "DDHHh7pRSNOQ",
        "outputId": "af444e30-e4c9-4ae5-fc4e-64ff01280309"
      },
      "execution_count": 47,
      "outputs": [
        {
          "output_type": "stream",
          "name": "stdout",
          "text": [
            "Outcome, Prediction\n",
            "[[0 0]\n",
            " [0 1]\n",
            " [1 1]\n",
            " [0 0]\n",
            " [0 0]\n",
            " [0 0]\n",
            " [0 0]\n",
            " [0 0]\n",
            " [0 0]\n",
            " [0 0]\n",
            " [0 1]\n",
            " [0 0]\n",
            " [1 0]\n",
            " [1 0]\n",
            " [1 1]\n",
            " [0 0]\n",
            " [0 0]\n",
            " [0 0]\n",
            " [0 0]\n",
            " [1 1]\n",
            " [0 0]\n",
            " [1 1]\n",
            " [0 0]\n",
            " [1 1]\n",
            " [0 0]\n",
            " [1 1]\n",
            " [0 0]\n",
            " [0 0]\n",
            " [0 0]\n",
            " [0 0]\n",
            " [0 0]\n",
            " [0 1]\n",
            " [1 0]\n",
            " [0 1]\n",
            " [0 0]\n",
            " [0 0]\n",
            " [0 0]\n",
            " [0 0]\n",
            " [0 0]\n",
            " [0 0]\n",
            " [1 1]\n",
            " [1 0]\n",
            " [0 0]\n",
            " [1 0]\n",
            " [0 0]\n",
            " [0 0]\n",
            " [0 1]\n",
            " [0 0]\n",
            " [0 0]\n",
            " [0 1]\n",
            " [1 1]\n",
            " [0 0]\n",
            " [0 0]\n",
            " [0 0]\n",
            " [1 0]\n",
            " [0 0]\n",
            " [0 0]\n",
            " [1 1]\n",
            " [0 0]\n",
            " [1 1]\n",
            " [1 0]\n",
            " [1 0]\n",
            " [0 1]\n",
            " [0 0]\n",
            " [1 1]\n",
            " [1 0]\n",
            " [0 0]\n",
            " [0 0]\n",
            " [1 1]\n",
            " [0 0]\n",
            " [0 0]\n",
            " [0 0]\n",
            " [0 0]\n",
            " [1 0]\n",
            " [0 0]\n",
            " [1 1]\n",
            " [1 1]\n",
            " [0 0]\n",
            " [1 1]\n",
            " [0 0]\n",
            " [1 1]\n",
            " [0 0]\n",
            " [1 0]\n",
            " [0 0]\n",
            " [0 0]\n",
            " [0 0]\n",
            " [1 1]\n",
            " [0 1]\n",
            " [1 1]\n",
            " [0 0]]\n"
          ]
        }
      ]
    },
    {
      "cell_type": "code",
      "source": [
        "dt_prediction_error_list = []\n",
        "dt_failed_error_list = []\n",
        "dt_not_failed_error_list = []\n",
        "\n",
        "for pair in dt_result_compare: \n",
        "\n",
        "  if pair[0] != pair[1]:\n",
        "    dt_prediction_error_list.append(pair)\n",
        "\n",
        "for error in dt_prediction_error_list:\n",
        "\n",
        "  if error[0] == 0:\n",
        "    dt_not_failed_error_list.append(error[0])\n",
        "\n",
        "  else:\n",
        "    dt_failed_error_list.append(error[0])\n",
        "\n",
        "dt_prediction_error = len(dt_prediction_error_list)\n",
        "dt_failed_error = len(dt_failed_error_list)\n",
        "dt_not_failed_error = len(dt_not_failed_error_list)\n",
        "\n",
        "print(\"Wrong Predictions:\", dt_prediction_error)\n",
        "print(\"Alive, but predicted dead:\", dt_not_failed_error)\n",
        "print(\"Dead, but predicted alive:\", dt_failed_error)"
      ],
      "metadata": {
        "colab": {
          "base_uri": "https://localhost:8080/"
        },
        "id": "uyiRBGdeSOPZ",
        "outputId": "ecf2ca8e-f637-4380-feed-e9c2316541a9"
      },
      "execution_count": 48,
      "outputs": [
        {
          "output_type": "stream",
          "name": "stdout",
          "text": [
            "Wrong Predictions: 19\n",
            "Alive, but predicted dead: 8\n",
            "Dead, but predicted alive: 11\n"
          ]
        }
      ]
    },
    {
      "cell_type": "markdown",
      "source": [
        "## **Random Forest**"
      ],
      "metadata": {
        "id": "BmjccwHoFpQF"
      }
    },
    {
      "cell_type": "code",
      "source": [
        "rf = RandomForestClassifier()\n",
        "\n",
        "# Fit the classifier\n",
        "rf.fit(X_train_70_scaled, y_train_70)\n",
        "\n",
        "rf_y_pred = rf.predict(X_test_30_scaled)\n",
        "\n",
        "rf_accuracy = round(rf.score(X_test_30_scaled, y_test_30)*100, 4)\n",
        "rf_f1_score = round(f1_score(y_test_30, rf_y_pred)*100, 4)\n",
        "\n",
        "# Print the accuracy score of the model\n",
        "print(\"Accuracy of logistic regression classifier using 70% training data: \", rf_accuracy)\n",
        "\n",
        "# Print the F1 score\n",
        "print(\"F1 score for 70% training data\", rf_f1_score, \"\\n\")\n",
        "\n",
        "print(classification_report(y_test_30.values, rf_y_pred), \"\\n\")\n",
        "\n",
        "plot_confusion_matrix(rf, X_test_30_scaled, y_test_30, cmap=plt.cm.Blues)\n",
        "plt.title(\"Random Forest Confusion Matrix\")   \n",
        "plt.xticks(range(2), [\"Heart Not Failed\",\"Heart Failed\"], fontsize=12)\n",
        "plt.yticks(range(2), [\"Heart Not Failed\",\"Heart Failed\"], fontsize=12)\n",
        "plt.show()"
      ],
      "metadata": {
        "colab": {
          "base_uri": "https://localhost:8080/",
          "height": 510
        },
        "id": "lRjbku8dGc-j",
        "outputId": "b483ce32-8733-4d03-e35f-f7de3b9ea8dd"
      },
      "execution_count": 49,
      "outputs": [
        {
          "output_type": "stream",
          "name": "stdout",
          "text": [
            "Accuracy of logistic regression classifier using 70% training data:  81.1111\n",
            "F1 score for 70% training data 69.0909 \n",
            "\n",
            "              precision    recall  f1-score   support\n",
            "\n",
            "           0       0.84      0.89      0.86        61\n",
            "           1       0.73      0.66      0.69        29\n",
            "\n",
            "    accuracy                           0.81        90\n",
            "   macro avg       0.79      0.77      0.78        90\n",
            "weighted avg       0.81      0.81      0.81        90\n",
            " \n",
            "\n"
          ]
        },
        {
          "output_type": "display_data",
          "data": {
            "image/png": "[encoded data removed]",
            "text/plain": [
              "<Figure size 432x288 with 2 Axes>"
            ]
          },
          "metadata": {
            "needs_background": "light"
          }
        }
      ]
    },
    {
      "cell_type": "code",
      "source": [
        "rf_y_test = np.array(y_test_30)\n",
        "rf_result_compare = np.concatenate((rf_y_test.reshape(len(y_test_30), 1), rf_y_pred.reshape(len(rf_y_pred), 1)), 1)\n",
        "print(\"Outcome,\", \"Prediction\")\n",
        "print(rf_result_compare)"
      ],
      "metadata": {
        "colab": {
          "base_uri": "https://localhost:8080/"
        },
        "id": "Hu-5BCFER78q",
        "outputId": "1ff340d2-f3af-4f4a-bd27-33a9c8d60b63"
      },
      "execution_count": 50,
      "outputs": [
        {
          "output_type": "stream",
          "name": "stdout",
          "text": [
            "Outcome, Prediction\n",
            "[[0 0]\n",
            " [0 0]\n",
            " [1 1]\n",
            " [0 0]\n",
            " [0 0]\n",
            " [0 0]\n",
            " [0 0]\n",
            " [0 0]\n",
            " [0 0]\n",
            " [0 0]\n",
            " [0 0]\n",
            " [0 0]\n",
            " [1 1]\n",
            " [1 0]\n",
            " [1 1]\n",
            " [0 0]\n",
            " [0 0]\n",
            " [0 0]\n",
            " [0 0]\n",
            " [1 1]\n",
            " [0 0]\n",
            " [1 1]\n",
            " [0 0]\n",
            " [1 1]\n",
            " [0 0]\n",
            " [1 1]\n",
            " [0 0]\n",
            " [0 0]\n",
            " [0 0]\n",
            " [0 0]\n",
            " [0 0]\n",
            " [0 0]\n",
            " [1 0]\n",
            " [0 1]\n",
            " [0 0]\n",
            " [0 0]\n",
            " [0 0]\n",
            " [0 0]\n",
            " [0 0]\n",
            " [0 0]\n",
            " [1 0]\n",
            " [1 0]\n",
            " [0 0]\n",
            " [1 1]\n",
            " [0 0]\n",
            " [0 0]\n",
            " [0 1]\n",
            " [0 0]\n",
            " [0 1]\n",
            " [0 1]\n",
            " [1 1]\n",
            " [0 0]\n",
            " [0 1]\n",
            " [0 0]\n",
            " [1 1]\n",
            " [0 0]\n",
            " [0 0]\n",
            " [1 1]\n",
            " [0 0]\n",
            " [1 0]\n",
            " [1 0]\n",
            " [1 0]\n",
            " [0 0]\n",
            " [0 0]\n",
            " [1 1]\n",
            " [1 0]\n",
            " [0 0]\n",
            " [0 0]\n",
            " [1 1]\n",
            " [0 0]\n",
            " [0 0]\n",
            " [0 0]\n",
            " [0 0]\n",
            " [1 1]\n",
            " [0 0]\n",
            " [1 1]\n",
            " [1 1]\n",
            " [0 0]\n",
            " [1 0]\n",
            " [0 1]\n",
            " [1 1]\n",
            " [0 0]\n",
            " [1 0]\n",
            " [0 0]\n",
            " [0 0]\n",
            " [0 0]\n",
            " [1 1]\n",
            " [0 0]\n",
            " [1 1]\n",
            " [0 1]]\n"
          ]
        }
      ]
    },
    {
      "cell_type": "code",
      "source": [
        "rf_prediction_error_list = []\n",
        "rf_failed_error_list = []\n",
        "rf_not_failed_error_list = []\n",
        "\n",
        "for pair in rf_result_compare: \n",
        "\n",
        "  if pair[0] != pair[1]:\n",
        "    rf_prediction_error_list.append(pair)\n",
        "\n",
        "for error in rf_prediction_error_list:\n",
        "\n",
        "  if error[0] == 0:\n",
        "    rf_not_failed_error_list.append(error[0])\n",
        "\n",
        "  else:\n",
        "    rf_failed_error_list.append(error[0])\n",
        "\n",
        "rf_prediction_error = len(rf_prediction_error_list)\n",
        "rf_failed_error = len(rf_failed_error_list)\n",
        "rf_not_failed_error = len(rf_not_failed_error_list)\n",
        "\n",
        "print(\"Wrong Predictions:\", rf_prediction_error)\n",
        "print(\"Alive, but predicted dead:\", rf_not_failed_error)\n",
        "print(\"Dead, but predicted alive:\", rf_failed_error)"
      ],
      "metadata": {
        "colab": {
          "base_uri": "https://localhost:8080/"
        },
        "id": "qgYmpim_VI6A",
        "outputId": "b2d03225-77b2-41bc-8aac-ddc2533aa22a"
      },
      "execution_count": 51,
      "outputs": [
        {
          "output_type": "stream",
          "name": "stdout",
          "text": [
            "Wrong Predictions: 17\n",
            "Alive, but predicted dead: 7\n",
            "Dead, but predicted alive: 10\n"
          ]
        }
      ]
    },
    {
      "cell_type": "markdown",
      "source": [
        "## **Summary of Accuracy and F1 Score**"
      ],
      "metadata": {
        "id": "wMg6CJcqLa4T"
      }
    },
    {
      "cell_type": "code",
      "source": [
        "accuracy_list = [logreg_accuracy, dt_accuracy, rf_accuracy]\n",
        "f1_score_list = [logreg_f1_score, dt_f1_score, rf_f1_score]\n",
        "\n",
        "models = [\"Logisitic Regression\", \"Decision Tree\", \"Random Forest\"]"
      ],
      "metadata": {
        "id": "vti83ulHLZ_U"
      },
      "execution_count": 90,
      "outputs": []
    },
    {
      "cell_type": "code",
      "source": [
        "plt.figure(figsize = (12,4))\n",
        "\n",
        "ax = sns.barplot(x = models, y = accuracy_list, palette = \"Paired\", saturation = 2.0)\n",
        "plt.title(\"Accuracy of Different Models\", fontsize = 14)\n",
        "plt.xlabel(\"Model\", fontsize = 14)\n",
        "plt.ylabel(\"Accuracy (%)\", fontsize = 14)\n",
        "\n",
        "for p in ax.patches:\n",
        "    width = p.get_width()\n",
        "    height = p.get_height()\n",
        "    x = p.get_x()\n",
        "    y = p.get_y()\n",
        "    ax.annotate(f\"{height} %\", (x + width/2, y + height*1.01), ha=\"center\")\n",
        "\n",
        "plt.show()"
      ],
      "metadata": {
        "colab": {
          "base_uri": "https://localhost:8080/",
          "height": 298
        },
        "id": "mVjx_tLNNXYv",
        "outputId": "189dfad0-512c-429f-d1dd-dd3f9d55a51f"
      },
      "execution_count": 91,
      "outputs": [
        {
          "output_type": "display_data",
          "data": {
            "image/png": "[encoded data removed]",
            "text/plain": [
              "<Figure size 864x288 with 1 Axes>"
            ]
          },
          "metadata": {
            "needs_background": "light"
          }
        }
      ]
    },
    {
      "cell_type": "code",
      "source": [
        "plt.figure(figsize = (12,4))\n",
        "\n",
        "ax = sns.barplot(x = models, y = f1_score_list, palette = \"Paired\", saturation = 2.0)\n",
        "plt.title(\"F1 Score of Different Models\", fontsize = 14)\n",
        "plt.xlabel(\"Model\", fontsize = 14)\n",
        "plt.ylabel(\"Accuracy (%)\", fontsize = 14)\n",
        "\n",
        "for p in ax.patches:\n",
        "    width = p.get_width()\n",
        "    height = p.get_height()\n",
        "    x = p.get_x()\n",
        "    y = p.get_y()\n",
        "    ax.annotate(f\"{height} %\", (x + width/2, y + height*1.01), ha=\"center\")\n",
        "\n",
        "plt.show()"
      ],
      "metadata": {
        "colab": {
          "base_uri": "https://localhost:8080/",
          "height": 298
        },
        "id": "FjviHSi1PXiz",
        "outputId": "c3ac33da-d6b9-4ff7-fa03-58e451d2e63f"
      },
      "execution_count": 92,
      "outputs": [
        {
          "output_type": "display_data",
          "data": {
            "image/png": "[encoded data removed]",
            "text/plain": [
              "<Figure size 864x288 with 1 Axes>"
            ]
          },
          "metadata": {
            "needs_background": "light"
          }
        }
      ]
    },
    {
      "cell_type": "markdown",
      "source": [
        "## **Summary of Wrong Predictions**"
      ],
      "metadata": {
        "id": "FAeeE2ZTWfc_"
      }
    },
    {
      "cell_type": "code",
      "source": [
        "prediction_error_list = [logreg_prediction_error, dt_prediction_error, rf_prediction_error]\n",
        "failed_error_list = [logreg_failed_error, dt_failed_error, rf_failed_error]\n",
        "not_failed_error_list = [logreg_not_failed_error, dt_not_failed_error, rf_not_failed_error]"
      ],
      "metadata": {
        "id": "B_IgldByWe41"
      },
      "execution_count": 93,
      "outputs": []
    },
    {
      "cell_type": "code",
      "source": [
        "plt.figure(figsize = (12,4))\n",
        "\n",
        "ax = sns.barplot(x = models, y = prediction_error_list, palette = \"Paired\", saturation = 2.0)\n",
        "plt.title(\"Prediction Error of Different Models\", fontsize = 14)\n",
        "plt.xlabel(\"Model\", fontsize = 14)\n",
        "plt.ylabel(\"Prediction Error\", fontsize = 14)\n",
        "\n",
        "for p in ax.patches:\n",
        "    width = p.get_width()\n",
        "    height = p.get_height()\n",
        "    x = p.get_x()\n",
        "    y = p.get_y()\n",
        "    ax.annotate(f\"{height}\", (x + width/2, y + height*1.01), ha=\"center\")\n",
        "\n",
        "plt.show()"
      ],
      "metadata": {
        "colab": {
          "base_uri": "https://localhost:8080/",
          "height": 298
        },
        "id": "Nkn5H4Eudxdn",
        "outputId": "66162e37-1b56-40ef-95eb-86e0f3295d16"
      },
      "execution_count": 94,
      "outputs": [
        {
          "output_type": "display_data",
          "data": {
            "image/png": "[encoded data removed]",
            "text/plain": [
              "<Figure size 864x288 with 1 Axes>"
            ]
          },
          "metadata": {
            "needs_background": "light"
          }
        }
      ]
    },
    {
      "cell_type": "code",
      "source": [
        "plt.figure(figsize = (12,4))\n",
        "\n",
        "ax = sns.barplot(x = models, y = not_failed_error_list, palette = \"Paired\", saturation = 2.0)\n",
        "plt.title(\"Alive, but Predicted Dead by Different Models\", fontsize = 14)\n",
        "plt.xlabel(\"Model\", fontsize = 14)\n",
        "plt.ylabel(\"Prediction Error\", fontsize = 14)\n",
        "\n",
        "for p in ax.patches:\n",
        "    width = p.get_width()\n",
        "    height = p.get_height()\n",
        "    x = p.get_x()\n",
        "    y = p.get_y()\n",
        "    ax.annotate(f\"{height}\", (x + width/2, y + height*1.01), ha=\"center\")\n",
        "\n",
        "plt.show()"
      ],
      "metadata": {
        "id": "SZpbcZFgdxso",
        "colab": {
          "base_uri": "https://localhost:8080/",
          "height": 298
        },
        "outputId": "3c395df3-fd1f-4d60-f69c-40002253aaf1"
      },
      "execution_count": 95,
      "outputs": [
        {
          "output_type": "display_data",
          "data": {
            "image/png": "[encoded data removed]",
            "text/plain": [
              "<Figure size 864x288 with 1 Axes>"
            ]
          },
          "metadata": {
            "needs_background": "light"
          }
        }
      ]
    },
    {
      "cell_type": "code",
      "source": [
        "plt.figure(figsize = (12,4))\n",
        "\n",
        "ax = sns.barplot(x = models, y = failed_error_list, palette = \"Paired\", saturation = 2.0)\n",
        "plt.title(\"Dead, but Predicted Alive by Different Models\", fontsize = 14)\n",
        "plt.xlabel(\"Model\", fontsize = 14)\n",
        "plt.ylabel(\"Prediction Error\", fontsize = 14)\n",
        "\n",
        "for p in ax.patches:\n",
        "    width = p.get_width()\n",
        "    height = p.get_height()\n",
        "    x = p.get_x()\n",
        "    y = p.get_y()\n",
        "    ax.annotate(f\"{height}\", (x + width/2, y + height*1.01), ha=\"center\")\n",
        "\n",
        "plt.show()"
      ],
      "metadata": {
        "id": "_uA6WtuBdx-U",
        "colab": {
          "base_uri": "https://localhost:8080/",
          "height": 298
        },
        "outputId": "d4476e05-cd5d-4339-9d0a-c6c67bb4058f"
      },
      "execution_count": 96,
      "outputs": [
        {
          "output_type": "display_data",
          "data": {
            "image/png": "[encoded data removed]",
            "text/plain": [
              "<Figure size 864x288 with 1 Axes>"
            ]
          },
          "metadata": {
            "needs_background": "light"
          }
        }
      ]
    },
    {
      "cell_type": "markdown",
      "source": [
        "## **Feature Selection Techniques**"
      ],
      "metadata": {
        "id": "Srety3gRumtT"
      }
    },
    {
      "cell_type": "code",
      "source": [
        "data = pd.read_csv(\"cleaned.csv\")\n",
        "\n",
        "# Independent columns\n",
        "X = data.iloc[:, 0:12] \n",
        "\n",
        "# Target column\n",
        "y = data.iloc[:, -1]"
      ],
      "metadata": {
        "id": "MySY4EHUvFgn"
      },
      "execution_count": 100,
      "outputs": []
    },
    {
      "cell_type": "markdown",
      "source": [
        "### **Univariate Selection**"
      ],
      "metadata": {
        "id": "7Ma80RNwuvwu"
      }
    },
    {
      "cell_type": "code",
      "source": [
        "# Apply SelectKBest class to extract top 12 best features\n",
        "bestfeatures = SelectKBest(score_func = chi2, k = 12)\n",
        "\n",
        "fit = bestfeatures.fit(X,y)\n",
        "\n",
        "dfscores = pd.DataFrame(fit.scores_)\n",
        "dfcolumns = pd.DataFrame(X.columns)\n",
        "\n",
        "# Concat two dataframes for better visualization \n",
        "featureScores = pd.concat([dfcolumns, dfscores], axis = 1)\n",
        "\n",
        "# Naming the dataframe columns\n",
        "featureScores.columns = ['Specs', 'Score']\n",
        "\n",
        "# Print 12 best features\n",
        "print(featureScores.nlargest(12, 'Score'))"
      ],
      "metadata": {
        "colab": {
          "base_uri": "https://localhost:8080/"
        },
        "id": "ijv4FL-guvZh",
        "outputId": "b19c8845-789a-477e-d970-94d06a8825eb"
      },
      "execution_count": 101,
      "outputs": [
        {
          "output_type": "stream",
          "name": "stdout",
          "text": [
            "                       Specs         Score\n",
            "6                  platelets  26135.771990\n",
            "11                      time   3826.892661\n",
            "2   creatinine_phosphokinase   1897.314839\n",
            "4          ejection_fraction     79.072541\n",
            "0                        age     44.572096\n",
            "7           serum_creatinine     19.814118\n",
            "8               serum_sodium      1.618175\n",
            "5        high_blood_pressure      1.221539\n",
            "1                    anaemia      0.746593\n",
            "10                   smoking      0.032347\n",
            "9                        sex      0.001956\n",
            "3                   diabetes      0.000657\n"
          ]
        }
      ]
    },
    {
      "cell_type": "markdown",
      "source": [
        "### **Feature Importance**\n"
      ],
      "metadata": {
        "id": "Ur4ClkGhmslo"
      }
    },
    {
      "cell_type": "code",
      "source": [
        "et = ExtraTreesClassifier()\n",
        "\n",
        "et.fit(X,y)\n",
        "\n",
        "# Plot graph of feature importances\n",
        "feature_importances = pd.Series(et.feature_importances_, index = X.columns)\n",
        "feature_importances.nlargest(12).plot(kind='barh')\n",
        "plt.show()"
      ],
      "metadata": {
        "colab": {
          "base_uri": "https://localhost:8080/",
          "height": 263
        },
        "id": "Oreozt1hlwhC",
        "outputId": "82bc0d91-a2f7-47fc-bad5-f94b4f0d811a"
      },
      "execution_count": 103,
      "outputs": [
        {
          "output_type": "display_data",
          "data": {
            "image/png": "[encoded data removed]",
            "text/plain": [
              "<Figure size 432x288 with 1 Axes>"
            ]
          },
          "metadata": {
            "needs_background": "light"
          }
        }
      ]
    }
  ]
}