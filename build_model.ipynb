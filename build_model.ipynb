{
  "nbformat": 4,
  "nbformat_minor": 0,
  "metadata": {
    "colab": {
      "name": "build_model.ipynb",
      "provenance": [],
      "collapsed_sections": []
    },
    "kernelspec": {
      "name": "python3",
      "display_name": "Python 3"
    },
    "language_info": {
      "name": "python"
    }
  },
  "cells": [
    {
      "cell_type": "markdown",
      "source": [
        "## **Import**"
      ],
      "metadata": {
        "id": "M_dJI4BKiK9K"
      }
    },
    {
      "cell_type": "code",
      "metadata": {
        "id": "W8pxNjbXgxuo"
      },
      "source": [
        "import pandas as pd\n",
        "import numpy as np\n",
        "import seaborn as sns\n",
        "\n",
        "import matplotlib.pyplot as plt\n",
        "from sklearn.metrics import plot_confusion_matrix\n",
        "\n",
        "from sklearn.preprocessing import StandardScaler\n",
        "from sklearn.model_selection import train_test_split\n",
        "\n",
        "from sklearn.linear_model import LogisticRegression\n",
        "from sklearn.tree import DecisionTreeClassifier\n",
        "from sklearn.ensemble import RandomForestClassifier\n",
        "from sklearn.ensemble import ExtraTreesClassifier\n",
        "\n",
        "from sklearn.metrics import classification_report\n",
        "from sklearn.metrics import precision_score\n",
        "from sklearn.metrics import recall_score\n",
        "from sklearn.metrics import f1_score\n",
        "\n",
        "from sklearn.feature_selection import SelectKBest\n",
        "from sklearn.feature_selection import chi2"
      ],
      "execution_count": 172,
      "outputs": []
    },
    {
      "cell_type": "code",
      "source": [
        "# Ignore the warning for using plot confusion matrix\n",
        "import warnings\n",
        "warnings.filterwarnings(\"ignore\")"
      ],
      "metadata": {
        "id": "xY5aMtxRLFIX"
      },
      "execution_count": 10,
      "outputs": []
    },
    {
      "cell_type": "markdown",
      "source": [
        "## **Feature Selection**"
      ],
      "metadata": {
        "id": "fLlrrWLpiHXw"
      }
    },
    {
      "cell_type": "code",
      "metadata": {
        "id": "Ys-b6sk_hTAP",
        "colab": {
          "base_uri": "https://localhost:8080/"
        },
        "outputId": "d6dd72c1-e109-4318-8ea3-9bc956aeff3b"
      },
      "source": [
        "df = pd.read_csv(\"cleaned.csv\")\n",
        "\n",
        "# Drop unnecessary features\n",
        "df = df.drop(['anaemia', 'creatinine_phosphokinase', 'diabetes', 'high_blood_pressure', 'platelets', 'sex', 'smoking', 'age', 'serum_sodium'], axis=1)\n",
        "\n",
        "# Feature variable\n",
        "X = df.drop('DEATH_EVENT', axis=1)\n",
        "\n",
        "# Target Variable\n",
        "y = df['DEATH_EVENT']\n",
        "\n",
        "print(f'Shape of X: {X.shape} and Y: {y.shape}')"
      ],
      "execution_count": 167,
      "outputs": [
        {
          "output_type": "stream",
          "name": "stdout",
          "text": [
            "Shape of X: (299, 3) and Y: (299,)\n"
          ]
        }
      ]
    },
    {
      "cell_type": "markdown",
      "source": [
        "## **Split Training/Testing Datasets with Stratification**"
      ],
      "metadata": {
        "id": "qIYJyLasifLH"
      }
    },
    {
      "cell_type": "code",
      "metadata": {
        "id": "b_iUH9JshZAL",
        "colab": {
          "base_uri": "https://localhost:8080/"
        },
        "outputId": "3620c587-6253-47c2-ef90-77c529e8e29e"
      },
      "source": [
        "# 70% Training and 30% testing sets\n",
        "X_train_70, X_test_30, y_train_70, y_test_30 = train_test_split(X,\n",
        "                                y,\n",
        "                                stratify=y,\n",
        "                                test_size=0.3,\n",
        "                                random_state=42)\n",
        "\n",
        "print('Training Data')\n",
        "print(f'Shape of X_train: {X_train_70.shape} and Y_train: {y_train_70.shape}')\n",
        "print('Testing Data')\n",
        "print(f'Shape of X_test: {X_test_30.shape} and Y_test: {y_test_30.shape}')"
      ],
      "execution_count": 168,
      "outputs": [
        {
          "output_type": "stream",
          "name": "stdout",
          "text": [
            "Training Data\n",
            "Shape of X_train: (209, 3) and Y_train: (209,)\n",
            "Testing Data\n",
            "Shape of X_test: (90, 3) and Y_test: (90,)\n"
          ]
        }
      ]
    },
    {
      "cell_type": "code",
      "source": [
        "# 80% Training and 20% testing sets\n",
        "X_train_80, X_test_20, y_train_80, y_test_20 = train_test_split(X,\n",
        "                                y,\n",
        "                                stratify=y,\n",
        "                                test_size=0.2,\n",
        "                                random_state=42)\n",
        "\n",
        "print('Training Data')\n",
        "print(f'Shape of X_train: {X_train_80.shape} and Y_train: {y_train_80.shape}')\n",
        "print('Testing Data')\n",
        "print(f'Shape of X_test: {X_test_20.shape} and Y_test: {y_test_20.shape}')"
      ],
      "metadata": {
        "id": "CDTyFoTKBNMG",
        "colab": {
          "base_uri": "https://localhost:8080/"
        },
        "outputId": "3bbf4354-fb36-43ad-bf1d-d27a9c231e91"
      },
      "execution_count": 169,
      "outputs": [
        {
          "output_type": "stream",
          "name": "stdout",
          "text": [
            "Training Data\n",
            "Shape of X_train: (239, 3) and Y_train: (239,)\n",
            "Testing Data\n",
            "Shape of X_test: (60, 3) and Y_test: (60,)\n"
          ]
        }
      ]
    },
    {
      "cell_type": "code",
      "source": [
        "# 90% Training and 10% testing sets\n",
        "X_train_90, X_test_10, y_train_90, y_test_10 = train_test_split(X,\n",
        "                                y,\n",
        "                                stratify=y,\n",
        "                                test_size=0.1,\n",
        "                                random_state=42)\n",
        "\n",
        "print('Training Data')\n",
        "print(f'Shape of X_train: {X_train_90.shape} and Y_train: {y_train_90.shape}')\n",
        "print('Testing Data')\n",
        "print(f'Shape of X_test: {X_test_10.shape} and Y_test: {y_test_10.shape}')"
      ],
      "metadata": {
        "id": "O1kcwqZlBSKk",
        "colab": {
          "base_uri": "https://localhost:8080/"
        },
        "outputId": "cbde1a51-6748-4c7a-a0ff-a0d29d5ed989"
      },
      "execution_count": 170,
      "outputs": [
        {
          "output_type": "stream",
          "name": "stdout",
          "text": [
            "Training Data\n",
            "Shape of X_train: (269, 3) and Y_train: (269,)\n",
            "Testing Data\n",
            "Shape of X_test: (30, 3) and Y_test: (30,)\n"
          ]
        }
      ]
    },
    {
      "cell_type": "markdown",
      "source": [
        "## **Standardization of Features**"
      ],
      "metadata": {
        "id": "cTIAYpbminFc"
      }
    },
    {
      "cell_type": "code",
      "source": [
        "scaler = StandardScaler()\n",
        "\n",
        "X_train_70_scaled = scaler.fit_transform(X_train_70)\n",
        "X_test_30_scaled = scaler.transform(X_test_30)\n",
        "\n",
        "X_train_80_scaled = scaler.fit_transform(X_train_80)\n",
        "X_test_20_scaled = scaler.transform(X_test_20)\n",
        "\n",
        "X_train_90_scaled = scaler.fit_transform(X_train_90)\n",
        "X_test_10_scaled = scaler.transform(X_test_10)"
      ],
      "metadata": {
        "id": "gbN-Wyk1J_p4"
      },
      "execution_count": 173,
      "outputs": []
    },
    {
      "cell_type": "markdown",
      "source": [
        "## **Logistic Regression**"
      ],
      "metadata": {
        "id": "PgmuQfxRFM1N"
      }
    },
    {
      "cell_type": "code",
      "source": [
        "# Instantiate the classifier\n",
        "logreg = LogisticRegression(random_state=42)\n",
        "\n",
        "# Fit the classifier\n",
        "logreg.fit(X_train_70_scaled, y_train_70)\n",
        "\n",
        "# Predict instances from the test set\n",
        "logreg_y_pred = logreg.predict(X_test_30_scaled)\n",
        "\n",
        "logreg_accuracy = round(logreg.score(X_test_30_scaled, y_test_30)*100, 4)\n",
        "logreg_f1_score = round(f1_score(y_test_30, logreg_y_pred)*100, 4)\n",
        "\n",
        "# Print the accuracy score of the model\n",
        "print(\"Accuracy of Logistic Regression Classifier using 70% training data: \", logreg_accuracy)\n",
        "\n",
        "# Print the F1 score\n",
        "print(\"F1 score for 70% training data\", logreg_f1_score, \"\\n\")\n",
        "\n",
        "print(classification_report(y_test_30.values, logreg_y_pred), \"\\n\")\n",
        "\n",
        "plot_confusion_matrix(logreg, X_test_30_scaled, y_test_30, cmap=plt.cm.Blues)\n",
        "plt.title(\"Logisitic Regression Confusion Matrix\")\n",
        "plt.xticks(range(2), [\"Heart Not Failed\",\"Heart Failed\"], fontsize=12)\n",
        "plt.yticks(range(2), [\"Heart Not Failed\",\"Heart Failed\"], fontsize=12)\n",
        "plt.show()"
      ],
      "metadata": {
        "colab": {
          "base_uri": "https://localhost:8080/",
          "height": 510
        },
        "id": "9a2i091O5VqD",
        "outputId": "7c59c845-b891-46f4-c335-74300574103f"
      },
      "execution_count": 184,
      "outputs": [
        {
          "output_type": "stream",
          "name": "stdout",
          "text": [
            "Accuracy of Logistic Regression Classifier using 70% training data:  81.1111\n",
            "F1 score for 70% training data 66.6667 \n",
            "\n",
            "              precision    recall  f1-score   support\n",
            "\n",
            "           0       0.82      0.92      0.87        61\n",
            "           1       0.77      0.59      0.67        29\n",
            "\n",
            "    accuracy                           0.81        90\n",
            "   macro avg       0.80      0.75      0.77        90\n",
            "weighted avg       0.81      0.81      0.80        90\n",
            " \n",
            "\n"
          ]
        },
        {
          "output_type": "display_data",
          "data": {
            "image/png": "[encoded data removed]",
            "text/plain": [
              "<Figure size 432x288 with 2 Axes>"
            ]
          },
          "metadata": {
            "needs_background": "light"
          }
        }
      ]
    },
    {
      "cell_type": "code",
      "source": [
        "logreg_y_test = np.array(y_test_30)\n",
        "logreg_result_compare = np.concatenate((logreg_y_test.reshape(len(y_test_30), 1), logreg_y_pred.reshape(len(logreg_y_pred), 1)), 1)\n",
        "print(\"Outcome,\", \"Prediction\")\n",
        "print(logreg_result_compare)"
      ],
      "metadata": {
        "colab": {
          "base_uri": "https://localhost:8080/"
        },
        "id": "mD8w20xYR_gg",
        "outputId": "7bb08c91-b407-4f13-a83e-bdfd60167588"
      },
      "execution_count": 185,
      "outputs": [
        {
          "output_type": "stream",
          "name": "stdout",
          "text": [
            "Outcome, Prediction\n",
            "[[0 0]\n",
            " [0 0]\n",
            " [1 1]\n",
            " [0 0]\n",
            " [0 0]\n",
            " [0 0]\n",
            " [0 0]\n",
            " [0 0]\n",
            " [0 0]\n",
            " [0 0]\n",
            " [0 0]\n",
            " [0 0]\n",
            " [1 1]\n",
            " [1 0]\n",
            " [1 1]\n",
            " [0 0]\n",
            " [0 0]\n",
            " [0 0]\n",
            " [0 0]\n",
            " [1 1]\n",
            " [0 0]\n",
            " [1 1]\n",
            " [0 1]\n",
            " [1 1]\n",
            " [0 0]\n",
            " [1 1]\n",
            " [0 0]\n",
            " [0 0]\n",
            " [0 0]\n",
            " [0 0]\n",
            " [0 0]\n",
            " [0 0]\n",
            " [1 0]\n",
            " [0 1]\n",
            " [0 0]\n",
            " [0 0]\n",
            " [0 0]\n",
            " [0 0]\n",
            " [0 0]\n",
            " [0 0]\n",
            " [1 1]\n",
            " [1 0]\n",
            " [0 0]\n",
            " [1 1]\n",
            " [0 0]\n",
            " [0 0]\n",
            " [0 1]\n",
            " [0 0]\n",
            " [0 1]\n",
            " [0 0]\n",
            " [1 1]\n",
            " [0 0]\n",
            " [0 1]\n",
            " [0 0]\n",
            " [1 1]\n",
            " [0 0]\n",
            " [0 0]\n",
            " [1 1]\n",
            " [0 0]\n",
            " [1 0]\n",
            " [1 0]\n",
            " [1 0]\n",
            " [0 0]\n",
            " [0 0]\n",
            " [1 1]\n",
            " [1 0]\n",
            " [0 0]\n",
            " [0 0]\n",
            " [1 0]\n",
            " [0 0]\n",
            " [0 0]\n",
            " [0 0]\n",
            " [0 0]\n",
            " [1 0]\n",
            " [0 0]\n",
            " [1 1]\n",
            " [1 0]\n",
            " [0 0]\n",
            " [1 0]\n",
            " [0 0]\n",
            " [1 1]\n",
            " [0 0]\n",
            " [1 0]\n",
            " [0 0]\n",
            " [0 0]\n",
            " [0 0]\n",
            " [1 1]\n",
            " [0 0]\n",
            " [1 1]\n",
            " [0 0]]\n"
          ]
        }
      ]
    },
    {
      "cell_type": "code",
      "source": [
        "logreg_prediction_error_list = []\n",
        "logreg_failed_error_list = []\n",
        "logreg_not_failed_error_list = []\n",
        "\n",
        "for pair in logreg_result_compare: \n",
        "\n",
        "  if pair[0] != pair[1]:\n",
        "    logreg_prediction_error_list.append(pair)\n",
        "\n",
        "for error in logreg_prediction_error_list:\n",
        "\n",
        "  if error[0] == 0:\n",
        "    logreg_not_failed_error_list.append(error[0])\n",
        "\n",
        "  else:\n",
        "    logreg_failed_error_list.append(error[0])\n",
        "\n",
        "logreg_prediction_error = len(logreg_prediction_error_list)\n",
        "logreg_failed_error = len(logreg_failed_error_list)\n",
        "logreg_not_failed_error = len(logreg_not_failed_error_list)\n",
        "\n",
        "print(\"Wrong Predictions:\", logreg_prediction_error)\n",
        "print(\"Alive, but predicted dead:\", logreg_not_failed_error)\n",
        "print(\"Dead, but predicted alive:\", logreg_failed_error)"
      ],
      "metadata": {
        "colab": {
          "base_uri": "https://localhost:8080/"
        },
        "id": "RIm1aEuSTCuF",
        "outputId": "b053feb6-252c-4aa4-f188-f86271799b82"
      },
      "execution_count": 186,
      "outputs": [
        {
          "output_type": "stream",
          "name": "stdout",
          "text": [
            "Wrong Predictions: 17\n",
            "Alive, but predicted dead: 5\n",
            "Dead, but predicted alive: 12\n"
          ]
        }
      ]
    },
    {
      "cell_type": "code",
      "source": [
        "# Fit the classifier\n",
        "logreg.fit(X_train_80_scaled, y_train_80)\n",
        "\n",
        "# Predict instances from the test set\n",
        "logreg_y_pred = logreg.predict(X_test_20_scaled)\n",
        "\n",
        "logreg_accuracy = round(logreg.score(X_test_20_scaled, y_test_20)*100, 4)\n",
        "logreg_f1_score = round(f1_score(y_test_20, logreg_y_pred)*100, 4)\n",
        "\n",
        "# Print the accuracy score of the model\n",
        "print(\"Accuracy of Logistic Regression Classifier using 80% training data: \", logreg_accuracy)\n",
        "\n",
        "# Print the F1 score\n",
        "print(\"F1 score for 80% training data\", logreg_f1_score, \"\\n\")\n",
        "\n",
        "print(classification_report(y_test_20.values, logreg_y_pred), \"\\n\")\n",
        "\n",
        "plot_confusion_matrix(logreg, X_test_20_scaled, y_test_20, cmap=plt.cm.Blues)\n",
        "plt.title(\"Logisitic Regression Confusion Matrix\")  \n",
        "plt.xticks(range(2), [\"Heart Not Failed\",\"Heart Failed\"], fontsize=12)\n",
        "plt.yticks(range(2), [\"Heart Not Failed\",\"Heart Failed\"], fontsize=12)\n",
        "plt.show()"
      ],
      "metadata": {
        "colab": {
          "base_uri": "https://localhost:8080/",
          "height": 510
        },
        "id": "lyWNYciZ5WLR",
        "outputId": "1fd3a0e0-5826-4eb2-f6c8-8e40a1961d2d"
      },
      "execution_count": 178,
      "outputs": [
        {
          "output_type": "stream",
          "name": "stdout",
          "text": [
            "Accuracy of Logistic Regression Classifier using 80% training data:  81.6667\n",
            "F1 score for 80% training data 64.5161 \n",
            "\n",
            "              precision    recall  f1-score   support\n",
            "\n",
            "           0       0.81      0.95      0.88        41\n",
            "           1       0.83      0.53      0.65        19\n",
            "\n",
            "    accuracy                           0.82        60\n",
            "   macro avg       0.82      0.74      0.76        60\n",
            "weighted avg       0.82      0.82      0.80        60\n",
            " \n",
            "\n"
          ]
        },
        {
          "output_type": "display_data",
          "data": {
            "image/png": "[encoded data removed]",
            "text/plain": [
              "<Figure size 432x288 with 2 Axes>"
            ]
          },
          "metadata": {
            "needs_background": "light"
          }
        }
      ]
    },
    {
      "cell_type": "code",
      "source": [
        "# Fit the classifier\n",
        "logreg.fit(X_train_90_scaled, y_train_90)\n",
        "\n",
        "# Predict instances from the test set\n",
        "logreg_y_pred = logreg.predict(X_test_10_scaled)\n",
        "\n",
        "logreg_accuracy = round(logreg.score(X_test_10_scaled, y_test_10)*100, 4)\n",
        "logreg_f1_score = round(f1_score(y_test_10, logreg_y_pred)*100, 4)\n",
        "\n",
        "# Print the accuracy score of the model\n",
        "print(\"Accuracy of Logistic Regression Classifier using 90% training data: \", logreg_accuracy)\n",
        "\n",
        "# Print the F1 score\n",
        "print(\"F1 score for 90% training data\", logreg_f1_score, \"\\n\")\n",
        "\n",
        "print(classification_report(y_test_10.values, logreg_y_pred), \"\\n\")\n",
        "\n",
        "plot_confusion_matrix(logreg, X_test_10_scaled, y_test_10, cmap=plt.cm.Blues)\n",
        "plt.title(\"Logisitic Regression Confusion Matrix\") \n",
        "plt.xticks(range(2), [\"Heart Not Failed\",\"Heart Failed\"], fontsize=12)\n",
        "plt.yticks(range(2), [\"Heart Not Failed\",\"Heart Failed\"], fontsize=12)\n",
        "plt.show()"
      ],
      "metadata": {
        "colab": {
          "base_uri": "https://localhost:8080/",
          "height": 510
        },
        "id": "SoWyVio8EyDI",
        "outputId": "762a44e7-16f9-4dad-f50a-1c01b89ae558"
      },
      "execution_count": 176,
      "outputs": [
        {
          "output_type": "stream",
          "name": "stdout",
          "text": [
            "Accuracy of Logistic Regression Classifier using 90% training data:  80.0\n",
            "F1 score for 90% training data 62.5 \n",
            "\n",
            "              precision    recall  f1-score   support\n",
            "\n",
            "           0       0.79      0.95      0.86        20\n",
            "           1       0.83      0.50      0.62        10\n",
            "\n",
            "    accuracy                           0.80        30\n",
            "   macro avg       0.81      0.72      0.74        30\n",
            "weighted avg       0.81      0.80      0.78        30\n",
            " \n",
            "\n"
          ]
        },
        {
          "output_type": "display_data",
          "data": {
            "image/png": "[encoded data removed]",
            "text/plain": [
              "<Figure size 432x288 with 2 Axes>"
            ]
          },
          "metadata": {
            "needs_background": "light"
          }
        }
      ]
    },
    {
      "cell_type": "markdown",
      "source": [
        "## **Decision Tree**"
      ],
      "metadata": {
        "id": "s7Qeeo5HFWpv"
      }
    },
    {
      "cell_type": "code",
      "metadata": {
        "colab": {
          "base_uri": "https://localhost:8080/",
          "height": 510
        },
        "id": "bDkiqAFNheCM",
        "outputId": "49768efd-507d-41b9-8684-5431bda2edc6"
      },
      "source": [
        "dt = DecisionTreeClassifier(random_state=42)\n",
        "\n",
        "# Fit the classifier\n",
        "dt.fit(X_train_70_scaled, y_train_70)\n",
        "\n",
        "dt_y_pred = dt.predict(X_test_30_scaled)\n",
        "\n",
        "dt_accuracy = round(dt.score(X_test_30_scaled, y_test_30)*100, 4)\n",
        "dt_f1_score = round(f1_score(y_test_30, dt_y_pred)*100, 4)\n",
        "\n",
        "# Print the accuracy score of the model\n",
        "print(\"Accuracy of Decision Tree Classifier using 70% training data: \", dt_accuracy)\n",
        "\n",
        "# Print the F1 score\n",
        "print(\"F1 score for 70% training data\", dt_f1_score, \"\\n\")\n",
        "\n",
        "print(classification_report(y_test_30.values, dt_y_pred), \"\\n\")\n",
        "\n",
        "plot_confusion_matrix(dt, X_test_30_scaled, y_test_30, cmap=plt.cm.Blues)  \n",
        "plt.title(\"Decision Tree Confusion Matrix\")  \n",
        "plt.xticks(range(2), [\"Heart Not Failed\",\"Heart Failed\"], fontsize=12)\n",
        "plt.yticks(range(2), [\"Heart Not Failed\",\"Heart Failed\"], fontsize=12)\n",
        "plt.show()"
      ],
      "execution_count": 183,
      "outputs": [
        {
          "output_type": "stream",
          "name": "stdout",
          "text": [
            "Accuracy of Decision Tree Classifier using 70% training data:  83.3333\n",
            "F1 score for 70% training data 71.6981 \n",
            "\n",
            "              precision    recall  f1-score   support\n",
            "\n",
            "           0       0.85      0.92      0.88        61\n",
            "           1       0.79      0.66      0.72        29\n",
            "\n",
            "    accuracy                           0.83        90\n",
            "   macro avg       0.82      0.79      0.80        90\n",
            "weighted avg       0.83      0.83      0.83        90\n",
            " \n",
            "\n"
          ]
        },
        {
          "output_type": "display_data",
          "data": {
            "image/png": "[encoded data removed]",
            "text/plain": [
              "<Figure size 432x288 with 2 Axes>"
            ]
          },
          "metadata": {
            "needs_background": "light"
          }
        }
      ]
    },
    {
      "cell_type": "code",
      "source": [
        "dt_y_test = np.array(y_test_30)\n",
        "dt_result_compare = np.concatenate((dt_y_test.reshape(len(y_test_30), 1), dt_y_pred.reshape(len(dt_y_pred), 1)), 1)\n",
        "print(\"Outcome,\", \"Prediction\")\n",
        "print(dt_result_compare)"
      ],
      "metadata": {
        "colab": {
          "base_uri": "https://localhost:8080/"
        },
        "id": "DDHHh7pRSNOQ",
        "outputId": "593057b8-f740-4956-fc62-2a32daec59f1"
      },
      "execution_count": 187,
      "outputs": [
        {
          "output_type": "stream",
          "name": "stdout",
          "text": [
            "Outcome, Prediction\n",
            "[[0 0]\n",
            " [0 0]\n",
            " [1 1]\n",
            " [0 0]\n",
            " [0 0]\n",
            " [0 0]\n",
            " [0 0]\n",
            " [0 0]\n",
            " [0 0]\n",
            " [0 0]\n",
            " [0 0]\n",
            " [0 0]\n",
            " [1 1]\n",
            " [1 0]\n",
            " [1 1]\n",
            " [0 0]\n",
            " [0 0]\n",
            " [0 0]\n",
            " [0 0]\n",
            " [1 1]\n",
            " [0 0]\n",
            " [1 1]\n",
            " [0 0]\n",
            " [1 1]\n",
            " [0 0]\n",
            " [1 1]\n",
            " [0 0]\n",
            " [0 0]\n",
            " [0 0]\n",
            " [0 0]\n",
            " [0 0]\n",
            " [0 0]\n",
            " [1 0]\n",
            " [0 1]\n",
            " [0 0]\n",
            " [0 0]\n",
            " [0 0]\n",
            " [0 0]\n",
            " [0 0]\n",
            " [0 0]\n",
            " [1 0]\n",
            " [1 0]\n",
            " [0 0]\n",
            " [1 1]\n",
            " [0 0]\n",
            " [0 0]\n",
            " [0 0]\n",
            " [0 0]\n",
            " [0 1]\n",
            " [0 1]\n",
            " [1 1]\n",
            " [0 0]\n",
            " [0 1]\n",
            " [0 0]\n",
            " [1 0]\n",
            " [0 0]\n",
            " [0 0]\n",
            " [1 1]\n",
            " [0 0]\n",
            " [1 1]\n",
            " [1 0]\n",
            " [1 0]\n",
            " [0 1]\n",
            " [0 0]\n",
            " [1 1]\n",
            " [1 0]\n",
            " [0 0]\n",
            " [0 0]\n",
            " [1 0]\n",
            " [0 0]\n",
            " [0 0]\n",
            " [0 0]\n",
            " [0 0]\n",
            " [1 1]\n",
            " [0 0]\n",
            " [1 1]\n",
            " [1 1]\n",
            " [0 0]\n",
            " [1 1]\n",
            " [0 0]\n",
            " [1 1]\n",
            " [0 0]\n",
            " [1 0]\n",
            " [0 0]\n",
            " [0 0]\n",
            " [0 0]\n",
            " [1 1]\n",
            " [0 0]\n",
            " [1 1]\n",
            " [0 0]]\n"
          ]
        }
      ]
    },
    {
      "cell_type": "code",
      "source": [
        "dt_prediction_error_list = []\n",
        "dt_failed_error_list = []\n",
        "dt_not_failed_error_list = []\n",
        "\n",
        "for pair in dt_result_compare: \n",
        "\n",
        "  if pair[0] != pair[1]:\n",
        "    dt_prediction_error_list.append(pair)\n",
        "\n",
        "for error in dt_prediction_error_list:\n",
        "\n",
        "  if error[0] == 0:\n",
        "    dt_not_failed_error_list.append(error[0])\n",
        "\n",
        "  else:\n",
        "    dt_failed_error_list.append(error[0])\n",
        "\n",
        "dt_prediction_error = len(dt_prediction_error_list)\n",
        "dt_failed_error = len(dt_failed_error_list)\n",
        "dt_not_failed_error = len(dt_not_failed_error_list)\n",
        "\n",
        "print(\"Wrong Predictions:\", dt_prediction_error)\n",
        "print(\"Alive, but predicted dead:\", dt_not_failed_error)\n",
        "print(\"Dead, but predicted alive:\", dt_failed_error)"
      ],
      "metadata": {
        "colab": {
          "base_uri": "https://localhost:8080/"
        },
        "id": "uyiRBGdeSOPZ",
        "outputId": "48af6199-34f5-4567-bff7-d6da169150bd"
      },
      "execution_count": 188,
      "outputs": [
        {
          "output_type": "stream",
          "name": "stdout",
          "text": [
            "Wrong Predictions: 15\n",
            "Alive, but predicted dead: 5\n",
            "Dead, but predicted alive: 10\n"
          ]
        }
      ]
    },
    {
      "cell_type": "markdown",
      "source": [
        "## **Random Forest**"
      ],
      "metadata": {
        "id": "BmjccwHoFpQF"
      }
    },
    {
      "cell_type": "code",
      "source": [
        "rf = RandomForestClassifier(random_state=42)\n",
        "\n",
        "# Fit the classifier\n",
        "rf.fit(X_train_70_scaled, y_train_70)\n",
        "\n",
        "rf_y_pred = rf.predict(X_test_30_scaled)\n",
        "\n",
        "rf_accuracy = round(rf.score(X_test_30_scaled, y_test_30)*100, 4)\n",
        "rf_f1_score = round(f1_score(y_test_30, rf_y_pred)*100, 4)\n",
        "\n",
        "# Print the accuracy score of the model\n",
        "print(\"Accuracy of Random Forest Classifier using 70% training data: \", rf_accuracy)\n",
        "\n",
        "# Print the F1 score\n",
        "print(\"F1 score for 70% training data\", rf_f1_score, \"\\n\")\n",
        "\n",
        "print(classification_report(y_test_30.values, rf_y_pred), \"\\n\")\n",
        "\n",
        "plot_confusion_matrix(rf, X_test_30_scaled, y_test_30, cmap=plt.cm.Blues)\n",
        "plt.title(\"Random Forest Confusion Matrix\")   \n",
        "plt.xticks(range(2), [\"Heart Not Failed\",\"Heart Failed\"], fontsize=12)\n",
        "plt.yticks(range(2), [\"Heart Not Failed\",\"Heart Failed\"], fontsize=12)\n",
        "plt.show()"
      ],
      "metadata": {
        "colab": {
          "base_uri": "https://localhost:8080/",
          "height": 510
        },
        "id": "lRjbku8dGc-j",
        "outputId": "d769823b-f93d-4081-e230-cb86a0a2d86c"
      },
      "execution_count": 181,
      "outputs": [
        {
          "output_type": "stream",
          "name": "stdout",
          "text": [
            "Accuracy of Random Forest Classifier using 70% training data:  85.5556\n",
            "F1 score for 70% training data 76.3636 \n",
            "\n",
            "              precision    recall  f1-score   support\n",
            "\n",
            "           0       0.88      0.92      0.90        61\n",
            "           1       0.81      0.72      0.76        29\n",
            "\n",
            "    accuracy                           0.86        90\n",
            "   macro avg       0.84      0.82      0.83        90\n",
            "weighted avg       0.85      0.86      0.85        90\n",
            " \n",
            "\n"
          ]
        },
        {
          "output_type": "display_data",
          "data": {
            "image/png": "[encoded data removed]",
            "text/plain": [
              "<Figure size 432x288 with 2 Axes>"
            ]
          },
          "metadata": {
            "needs_background": "light"
          }
        }
      ]
    },
    {
      "cell_type": "code",
      "source": [
        "rf_y_test = np.array(y_test_30)\n",
        "rf_result_compare = np.concatenate((rf_y_test.reshape(len(y_test_30), 1), rf_y_pred.reshape(len(rf_y_pred), 1)), 1)\n",
        "print(\"Outcome,\", \"Prediction\")\n",
        "print(rf_result_compare)"
      ],
      "metadata": {
        "colab": {
          "base_uri": "https://localhost:8080/"
        },
        "id": "Hu-5BCFER78q",
        "outputId": "964aea8b-bf26-48aa-f6e8-eac8516e1d5e"
      },
      "execution_count": 189,
      "outputs": [
        {
          "output_type": "stream",
          "name": "stdout",
          "text": [
            "Outcome, Prediction\n",
            "[[0 0]\n",
            " [0 0]\n",
            " [1 1]\n",
            " [0 0]\n",
            " [0 0]\n",
            " [0 0]\n",
            " [0 0]\n",
            " [0 0]\n",
            " [0 0]\n",
            " [0 0]\n",
            " [0 0]\n",
            " [0 0]\n",
            " [1 1]\n",
            " [1 0]\n",
            " [1 1]\n",
            " [0 0]\n",
            " [0 0]\n",
            " [0 0]\n",
            " [0 0]\n",
            " [1 1]\n",
            " [0 0]\n",
            " [1 1]\n",
            " [0 0]\n",
            " [1 1]\n",
            " [0 0]\n",
            " [1 1]\n",
            " [0 0]\n",
            " [0 0]\n",
            " [0 0]\n",
            " [0 0]\n",
            " [0 0]\n",
            " [0 0]\n",
            " [1 0]\n",
            " [0 1]\n",
            " [0 0]\n",
            " [0 0]\n",
            " [0 0]\n",
            " [0 0]\n",
            " [0 0]\n",
            " [0 0]\n",
            " [1 1]\n",
            " [1 0]\n",
            " [0 0]\n",
            " [1 1]\n",
            " [0 0]\n",
            " [0 0]\n",
            " [0 0]\n",
            " [0 0]\n",
            " [0 1]\n",
            " [0 1]\n",
            " [1 1]\n",
            " [0 0]\n",
            " [0 1]\n",
            " [0 0]\n",
            " [1 1]\n",
            " [0 0]\n",
            " [0 0]\n",
            " [1 1]\n",
            " [0 0]\n",
            " [1 1]\n",
            " [1 0]\n",
            " [1 0]\n",
            " [0 0]\n",
            " [0 0]\n",
            " [1 1]\n",
            " [1 0]\n",
            " [0 0]\n",
            " [0 0]\n",
            " [1 1]\n",
            " [0 0]\n",
            " [0 0]\n",
            " [0 0]\n",
            " [0 0]\n",
            " [1 1]\n",
            " [0 0]\n",
            " [1 1]\n",
            " [1 1]\n",
            " [0 0]\n",
            " [1 0]\n",
            " [0 0]\n",
            " [1 1]\n",
            " [0 0]\n",
            " [1 0]\n",
            " [0 0]\n",
            " [0 0]\n",
            " [0 0]\n",
            " [1 1]\n",
            " [0 0]\n",
            " [1 1]\n",
            " [0 1]]\n"
          ]
        }
      ]
    },
    {
      "cell_type": "code",
      "source": [
        "rf_prediction_error_list = []\n",
        "rf_failed_error_list = []\n",
        "rf_not_failed_error_list = []\n",
        "\n",
        "for pair in rf_result_compare: \n",
        "\n",
        "  if pair[0] != pair[1]:\n",
        "    rf_prediction_error_list.append(pair)\n",
        "\n",
        "for error in rf_prediction_error_list:\n",
        "\n",
        "  if error[0] == 0:\n",
        "    rf_not_failed_error_list.append(error[0])\n",
        "\n",
        "  else:\n",
        "    rf_failed_error_list.append(error[0])\n",
        "\n",
        "rf_prediction_error = len(rf_prediction_error_list)\n",
        "rf_failed_error = len(rf_failed_error_list)\n",
        "rf_not_failed_error = len(rf_not_failed_error_list)\n",
        "\n",
        "print(\"Wrong Predictions:\", rf_prediction_error)\n",
        "print(\"Alive, but predicted dead:\", rf_not_failed_error)\n",
        "print(\"Dead, but predicted alive:\", rf_failed_error)"
      ],
      "metadata": {
        "colab": {
          "base_uri": "https://localhost:8080/"
        },
        "id": "qgYmpim_VI6A",
        "outputId": "4a361de2-b55b-483c-dd10-2ed74d7968a3"
      },
      "execution_count": 190,
      "outputs": [
        {
          "output_type": "stream",
          "name": "stdout",
          "text": [
            "Wrong Predictions: 13\n",
            "Alive, but predicted dead: 5\n",
            "Dead, but predicted alive: 8\n"
          ]
        }
      ]
    },
    {
      "cell_type": "markdown",
      "source": [
        "## **Summary of Accuracy and F1 Score**"
      ],
      "metadata": {
        "id": "wMg6CJcqLa4T"
      }
    },
    {
      "cell_type": "code",
      "source": [
        "accuracy_list = [logreg_accuracy, dt_accuracy, rf_accuracy]\n",
        "f1_score_list = [logreg_f1_score, dt_f1_score, rf_f1_score]\n",
        "\n",
        "models = [\"Logisitic Regression\", \"Decision Tree\", \"Random Forest\"]"
      ],
      "metadata": {
        "id": "vti83ulHLZ_U"
      },
      "execution_count": 191,
      "outputs": []
    },
    {
      "cell_type": "code",
      "source": [
        "plt.figure(figsize = (12,4))\n",
        "\n",
        "ax = sns.barplot(x = models, y = accuracy_list, palette = \"Paired\", saturation = 2.0)\n",
        "plt.title(\"Accuracy of Different Models\", fontsize = 14)\n",
        "plt.xlabel(\"Model\", fontsize = 14)\n",
        "plt.ylabel(\"Accuracy (%)\", fontsize = 14)\n",
        "\n",
        "for p in ax.patches:\n",
        "    width = p.get_width()\n",
        "    height = p.get_height()\n",
        "    x = p.get_x()\n",
        "    y = p.get_y()\n",
        "    ax.annotate(f\"{height} %\", (x + width/2, y + height*1.01), ha=\"center\")\n",
        "\n",
        "plt.show()"
      ],
      "metadata": {
        "colab": {
          "base_uri": "https://localhost:8080/",
          "height": 298
        },
        "id": "mVjx_tLNNXYv",
        "outputId": "23668f9b-bfc7-4505-f4be-54a16561a3d6"
      },
      "execution_count": 192,
      "outputs": [
        {
          "output_type": "display_data",
          "data": {
            "image/png": "[encoded data removed]",
            "text/plain": [
              "<Figure size 864x288 with 1 Axes>"
            ]
          },
          "metadata": {
            "needs_background": "light"
          }
        }
      ]
    },
    {
      "cell_type": "code",
      "source": [
        "plt.figure(figsize = (12,4))\n",
        "\n",
        "ax = sns.barplot(x = models, y = f1_score_list, palette = \"Paired\", saturation = 2.0)\n",
        "plt.title(\"F1 Score of Different Models\", fontsize = 14)\n",
        "plt.xlabel(\"Model\", fontsize = 14)\n",
        "plt.ylabel(\"Accuracy (%)\", fontsize = 14)\n",
        "\n",
        "for p in ax.patches:\n",
        "    width = p.get_width()\n",
        "    height = p.get_height()\n",
        "    x = p.get_x()\n",
        "    y = p.get_y()\n",
        "    ax.annotate(f\"{height} %\", (x + width/2, y + height*1.01), ha=\"center\")\n",
        "\n",
        "plt.show()"
      ],
      "metadata": {
        "colab": {
          "base_uri": "https://localhost:8080/",
          "height": 298
        },
        "id": "FjviHSi1PXiz",
        "outputId": "8631a7f8-42c2-461e-c82f-e8624f7e4450"
      },
      "execution_count": 193,
      "outputs": [
        {
          "output_type": "display_data",
          "data": {
            "image/png": "[encoded data removed]",
            "text/plain": [
              "<Figure size 864x288 with 1 Axes>"
            ]
          },
          "metadata": {
            "needs_background": "light"
          }
        }
      ]
    },
    {
      "cell_type": "markdown",
      "source": [
        "## **Summary of Wrong Predictions**"
      ],
      "metadata": {
        "id": "FAeeE2ZTWfc_"
      }
    },
    {
      "cell_type": "code",
      "source": [
        "prediction_error_list = [logreg_prediction_error, dt_prediction_error, rf_prediction_error]\n",
        "failed_error_list = [logreg_failed_error, dt_failed_error, rf_failed_error]\n",
        "not_failed_error_list = [logreg_not_failed_error, dt_not_failed_error, rf_not_failed_error]"
      ],
      "metadata": {
        "id": "B_IgldByWe41"
      },
      "execution_count": 194,
      "outputs": []
    },
    {
      "cell_type": "code",
      "source": [
        "plt.figure(figsize = (12,4))\n",
        "\n",
        "ax = sns.barplot(x = models, y = prediction_error_list, palette = \"Paired\", saturation = 2.0)\n",
        "plt.title(\"Prediction Error of Different Models\", fontsize = 14)\n",
        "plt.xlabel(\"Model\", fontsize = 14)\n",
        "plt.ylabel(\"Prediction Error\", fontsize = 14)\n",
        "\n",
        "for p in ax.patches:\n",
        "    width = p.get_width()\n",
        "    height = p.get_height()\n",
        "    x = p.get_x()\n",
        "    y = p.get_y()\n",
        "    ax.annotate(f\"{height}\", (x + width/2, y + height*1.01), ha=\"center\")\n",
        "\n",
        "plt.show()"
      ],
      "metadata": {
        "colab": {
          "base_uri": "https://localhost:8080/",
          "height": 298
        },
        "id": "Nkn5H4Eudxdn",
        "outputId": "e7fa1253-8937-4df9-fb25-74dec944938d"
      },
      "execution_count": 195,
      "outputs": [
        {
          "output_type": "display_data",
          "data": {
            "image/png": "[encoded data removed]",
            "text/plain": [
              "<Figure size 864x288 with 1 Axes>"
            ]
          },
          "metadata": {
            "needs_background": "light"
          }
        }
      ]
    },
    {
      "cell_type": "code",
      "source": [
        "plt.figure(figsize = (12,4))\n",
        "\n",
        "ax = sns.barplot(x = models, y = not_failed_error_list, palette = \"Paired\", saturation = 2.0)\n",
        "plt.title(\"Alive, but Predicted Dead by Different Models\", fontsize = 14)\n",
        "plt.xlabel(\"Model\", fontsize = 14)\n",
        "plt.ylabel(\"Prediction Error\", fontsize = 14)\n",
        "\n",
        "for p in ax.patches:\n",
        "    width = p.get_width()\n",
        "    height = p.get_height()\n",
        "    x = p.get_x()\n",
        "    y = p.get_y()\n",
        "    ax.annotate(f\"{height}\", (x + width/2, y + height*1.01), ha=\"center\")\n",
        "\n",
        "plt.show()"
      ],
      "metadata": {
        "id": "SZpbcZFgdxso",
        "colab": {
          "base_uri": "https://localhost:8080/",
          "height": 298
        },
        "outputId": "323654aa-f86e-4b6f-dd65-80b49c6ae473"
      },
      "execution_count": 196,
      "outputs": [
        {
          "output_type": "display_data",
          "data": {
            "image/png": "[encoded data removed]",
            "text/plain": [
              "<Figure size 864x288 with 1 Axes>"
            ]
          },
          "metadata": {
            "needs_background": "light"
          }
        }
      ]
    },
    {
      "cell_type": "code",
      "source": [
        "plt.figure(figsize = (12,4))\n",
        "\n",
        "ax = sns.barplot(x = models, y = failed_error_list, palette = \"Paired\", saturation = 2.0)\n",
        "plt.title(\"Dead, but Predicted Alive by Different Models\", fontsize = 14)\n",
        "plt.xlabel(\"Model\", fontsize = 14)\n",
        "plt.ylabel(\"Prediction Error\", fontsize = 14)\n",
        "\n",
        "for p in ax.patches:\n",
        "    width = p.get_width()\n",
        "    height = p.get_height()\n",
        "    x = p.get_x()\n",
        "    y = p.get_y()\n",
        "    ax.annotate(f\"{height}\", (x + width/2, y + height*1.01), ha=\"center\")\n",
        "\n",
        "plt.show()"
      ],
      "metadata": {
        "id": "_uA6WtuBdx-U",
        "colab": {
          "base_uri": "https://localhost:8080/",
          "height": 298
        },
        "outputId": "229c83fb-cef7-4244-e456-c76e7c4872a3"
      },
      "execution_count": 197,
      "outputs": [
        {
          "output_type": "display_data",
          "data": {
            "image/png": "[encoded data removed]",
            "text/plain": [
              "<Figure size 864x288 with 1 Axes>"
            ]
          },
          "metadata": {
            "needs_background": "light"
          }
        }
      ]
    }
  ]
}